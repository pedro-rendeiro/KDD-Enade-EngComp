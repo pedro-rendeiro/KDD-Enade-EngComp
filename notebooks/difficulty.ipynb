{
 "cells": [
  {
   "cell_type": "code",
   "execution_count": 1,
   "metadata": {},
   "outputs": [],
   "source": [
    "import pandas as pd\n",
    "import numpy as np\n",
    "import sys\n",
    "\n",
    "sys.path.append(\"../\")\n",
    "\n",
    "from src import util\n",
    "from src.transformation import transform\n",
    "from src import config\n",
    "from src import subject_manipulation\n",
    "from typing import Tuple, List\n",
    "from src.config import SUBJECT_DF_PATH, BLANK_ANSWER_LABEL, DELETION_ANSWER_LABEL, CANCELLED_LABEL, DIFFICULTIES, \\\n",
    "    MATH_SUBJECTS, COMPUTING_SUBJECTS, HUMAN_SUBJECTS, TECHNOLOGY_SUBJECTS\n",
    "import matplotlib.pyplot as plt\n",
    "import seaborn as sns\n",
    "import matplotlib\n",
    "import matplotlib.patches as mpatches\n",
    "import os"
   ]
  },
  {
   "cell_type": "code",
   "execution_count": 2,
   "metadata": {},
   "outputs": [],
   "source": [
    "def read_csv_course(year, filter_by_course):\n",
    "    df = transform.read_csv(year)\n",
    "    if filter_by_course:\n",
    "        df = df.loc[df[\"CO_CURSO\"] == config.CODE_COURSE]\n",
    "    return df"
   ]
  },
  {
   "cell_type": "code",
   "execution_count": 3,
   "metadata": {},
   "outputs": [],
   "source": [
    "years = [2017, 2014, 2011, 2008, 2005]"
   ]
  },
  {
   "cell_type": "code",
   "execution_count": 4,
   "metadata": {},
   "outputs": [],
   "source": [
    "def get_dict_all_years(filter_by_course: bool) -> dict:\n",
    "        \n",
    "    result = {}\n",
    "    for year in years:\n",
    "        result[year] = read_csv_course(year, filter_by_course=filter_by_course)\n",
    "        \n",
    "    return result"
   ]
  },
  {
   "cell_type": "code",
   "execution_count": 5,
   "metadata": {},
   "outputs": [],
   "source": [
    "def display_all_years_nota(all_dfs: dict) -> pd.DataFrame:\n",
    "    data = {\"2005\": all_dfs[2005][\"Nota %\"].copy(),\n",
    "            \"2008\": all_dfs[2008][\"Nota %\"].copy(),\n",
    "            \"2011\": all_dfs[2011][\"Nota %\"].copy(),\n",
    "            \"2014\": all_dfs[2014][\"Nota %\"].copy(),\n",
    "            \"2017\": all_dfs[2017][\"Nota %\"].copy()}\n",
    "    return pd.DataFrame(data)"
   ]
  },
  {
   "cell_type": "code",
   "execution_count": 6,
   "metadata": {},
   "outputs": [],
   "source": [
    "\"\"\"Numero de questões respondidas por categoria considerando todos os anos\n",
    "    \n",
    "    contador para cada categoria iniciado em 0\n",
    "    para cada prova\n",
    "        para cada categoria\n",
    "            multiplicar numero de presentes pelo numero de questões da categoria\n",
    "            incrementar o contador da categoria\n",
    "     \"\"\"\n",
    "\n",
    "def return_num_answered(display_dfs, original_dfs, multiply_by_students=True):\n",
    "    num_questions_answered_dfs = []\n",
    "    for year in display_dfs.keys():\n",
    "        df = display_dfs[year]\n",
    "        num_questions = df[\"Nº Questões\"].astype(int).copy()\n",
    "        if multiply_by_students:\n",
    "            num_questions *= original_dfs[year].shape[0]\n",
    "        num_questions_answered_dfs.append(num_questions)\n",
    "    num_questions_answered_df = pd.concat(num_questions_answered_dfs, axis=1)\n",
    "    num_answered_by_category = num_questions_answered_df.fillna(0).sum(axis=1).sort_index()\n",
    "    return num_answered_by_category\n",
    "\n",
    "\"\"\"Numero de questões respondidas corretamente por categoria considerando todos os anos\n",
    "    \n",
    "    contador para cada categoria iniciado em 0\n",
    "    para cada prova\n",
    "        para cada categoria\n",
    "            multiplicar numero de presentes pelo numero de questões acertadas da categoria\n",
    "            incrementar o contador da categoria\n",
    "     \"\"\"\n",
    "\n",
    "def return_num_correct(dfs, categories):\n",
    "    columns = [f\"ACERTOS_OBJ_{x}\" for x in categories]\n",
    "    correct_by_category  = pd.concat(dfs.values(), ignore_index=True)\n",
    "    correct_by_category = correct_by_category[columns].sum(0).sort_index()\n",
    "    return correct_by_category\n",
    "    \n",
    "\n",
    "def get_all_years_combined_df(display_dfs, dfs, categories):\n",
    "    num_answered = return_num_answered(display_dfs, dfs)\n",
    "    num_correct = return_num_correct(dfs, categories)\n",
    "    num_correct.index = num_answered.index\n",
    "    data_df = {\"Questões Respondidas no total (Questões x Alunos)\": num_answered,\n",
    "               \"Acertos no Total (Acertos x Alunos)\": num_correct}\n",
    "    score_df_category = pd.DataFrame(data_df)\n",
    "    score_df_category[\"Nota %\"] = score_df_category.iloc[:, 1]*100/score_df_category.iloc[:, 0]\n",
    "    score_df_category.iloc[:, 0] =  score_df_category.iloc[:, 0].astype(int)\n",
    "    score_df_category.iloc[:, 1] =  score_df_category.iloc[:, 1].astype(int)\n",
    "\n",
    "    score_df_category[\"Nota %\"] = score_df_category[\"Nota %\"].round(2)\n",
    "    \n",
    "    return score_df_category.sort_values(by=[\"Nota %\"])"
   ]
  },
  {
   "cell_type": "code",
   "execution_count": 7,
   "metadata": {},
   "outputs": [],
   "source": [
    "path = os.path.join(\"data\", \"raw_data\", \"dificuldade_questao.csv\")\n",
    "difficulty_df = pd.read_csv(path)"
   ]
  },
  {
   "cell_type": "code",
   "execution_count": 8,
   "metadata": {},
   "outputs": [],
   "source": [
    "def get_display_df_difficulty(year: int, input_df: pd.DataFrame,\n",
    "                              difficulty_df: pd.DataFrame) -> Tuple[pd.DataFrame, pd.DataFrame]:\n",
    "   \n",
    "    temp_difficulty_df = difficulty_df.loc[difficulty_df['ano'] == year].copy()\n",
    "    \n",
    "    util.map_presence(input_df)\n",
    "    presence_df = input_df[\"TP_PRES\"].value_counts()\n",
    "    \n",
    "    input_df = util.filter_present_students(input_df)\n",
    "    \n",
    "    input_df = util.add_all_score_categories(input_df, temp_difficulty_df, True,\n",
    "                                             DIFFICULTIES, util.get_difficulty_valid_questions)\n",
    "        \n",
    "    categories = DIFFICULTIES\n",
    "    \n",
    "    num_questions = []\n",
    "    mean_acertos = []\n",
    "    std_acertos = []\n",
    "    column_zero = []\n",
    "    column_geq_one = []\n",
    "    column_all = []\n",
    "    num_alunos = input_df.shape[0]\n",
    "\n",
    "    \n",
    "    for category in categories:\n",
    "        questions = util.get_difficulty_valid_questions(category, \n",
    "                                                             temp_difficulty_df,\n",
    "                                                             input_df)\n",
    "        num_obj_questions = len(questions)\n",
    "    \n",
    "        mean_acertos_category = input_df[f\"ACERTOS_OBJ_{category}\"].mean()\n",
    "    \n",
    "        std_acertos_category = input_df[f\"ACERTOS_OBJ_{category}\"].std()\n",
    "        \n",
    "        zero_category_percentage = list(input_df[f\"ACERTOS_OBJ_{category}\"]).count(0) * 100 / num_alunos\n",
    "    \n",
    "        geq_one_category_percentage = list(input_df[f\"ACERTOS_OBJ_{category}\"] >= 1).count(True) * 100 / num_alunos\n",
    "        \n",
    "        all_category_percentage = list(input_df[f\"ACERTOS_OBJ_{category}\"] == num_obj_questions).count(True) * 100 / num_alunos\n",
    "        \n",
    "        if num_obj_questions > 0:\n",
    "            num_questions.append(num_obj_questions)\n",
    "            mean_acertos.append(mean_acertos_category)\n",
    "            std_acertos.append(std_acertos_category)\n",
    "            column_zero.append(zero_category_percentage)\n",
    "            column_geq_one.append(geq_one_category_percentage)\n",
    "            column_all.append(all_category_percentage)\n",
    "        else:\n",
    "            num_questions.append(0)\n",
    "            mean_acertos.append(None)\n",
    "            std_acertos.append(None)\n",
    "            column_zero.append(None)\n",
    "            column_geq_one.append(None)\n",
    "            column_all.append(None)\n",
    "\n",
    "    category_labels = [f\"SCORE_OBJ_{x}\" for x in categories]\n",
    "\n",
    "    mean_by_category = input_df[category_labels].mean().values\n",
    "\n",
    "    data = np.array([mean_by_category, num_questions]).T\n",
    "\n",
    "    display_df = pd.DataFrame(data=data, index=categories, \n",
    "                          columns=[\"Nota %\", \"Nº Questões\"])\n",
    "    display_df[\"Nº Questões\"] = display_df[\"Nº Questões\"].astype(int, errors=\"ignore\")\n",
    "    display_df[\"Média Acertos\"] = mean_acertos\n",
    "    display_df[\"Desvio Padrão Acertos\"] = std_acertos\n",
    "    display_df[\"% de Zeros\"] = column_zero\n",
    "\n",
    "    display_df[\"% de Alunos que acertaram pelo menos uma questão\"] = column_geq_one\n",
    "    display_df[\"% de Alunos que acertaram todas\"] = column_all\n",
    "\n",
    "\n",
    "    display_df = display_df.sort_values(by=[\"Nota %\"]).round(2)\n",
    "\n",
    "    \n",
    "    return display_df, input_df\n"
   ]
  },
  {
   "cell_type": "code",
   "execution_count": 9,
   "metadata": {},
   "outputs": [
    {
     "ename": "FileNotFoundError",
     "evalue": "[Errno 2] No such file or directory: 'data/transformed_data/microdados_transformados_2017.csv'",
     "output_type": "error",
     "traceback": [
      "\u001b[0;31m---------------------------------------------------------------------------\u001b[0m",
      "\u001b[0;31mFileNotFoundError\u001b[0m                         Traceback (most recent call last)",
      "\u001b[0;32m<ipython-input-9-7723d4681e65>\u001b[0m in \u001b[0;36m<module>\u001b[0;34m\u001b[0m\n\u001b[0;32m----> 1\u001b[0;31m \u001b[0menade_all_years_course\u001b[0m \u001b[0;34m=\u001b[0m \u001b[0mget_dict_all_years\u001b[0m\u001b[0;34m(\u001b[0m\u001b[0mfilter_by_course\u001b[0m\u001b[0;34m=\u001b[0m\u001b[0;32mTrue\u001b[0m\u001b[0;34m)\u001b[0m\u001b[0;34m\u001b[0m\u001b[0;34m\u001b[0m\u001b[0m\n\u001b[0m\u001b[1;32m      2\u001b[0m \u001b[0menade_all_years_br\u001b[0m \u001b[0;34m=\u001b[0m \u001b[0mget_dict_all_years\u001b[0m\u001b[0;34m(\u001b[0m\u001b[0mfilter_by_course\u001b[0m\u001b[0;34m=\u001b[0m\u001b[0;32mFalse\u001b[0m\u001b[0;34m)\u001b[0m\u001b[0;34m\u001b[0m\u001b[0;34m\u001b[0m\u001b[0m\n",
      "\u001b[0;32m<ipython-input-4-1b6ca461cb31>\u001b[0m in \u001b[0;36mget_dict_all_years\u001b[0;34m(filter_by_course)\u001b[0m\n\u001b[1;32m      3\u001b[0m     \u001b[0mresult\u001b[0m \u001b[0;34m=\u001b[0m \u001b[0;34m{\u001b[0m\u001b[0;34m}\u001b[0m\u001b[0;34m\u001b[0m\u001b[0;34m\u001b[0m\u001b[0m\n\u001b[1;32m      4\u001b[0m     \u001b[0;32mfor\u001b[0m \u001b[0myear\u001b[0m \u001b[0;32min\u001b[0m \u001b[0myears\u001b[0m\u001b[0;34m:\u001b[0m\u001b[0;34m\u001b[0m\u001b[0;34m\u001b[0m\u001b[0m\n\u001b[0;32m----> 5\u001b[0;31m         \u001b[0mresult\u001b[0m\u001b[0;34m[\u001b[0m\u001b[0myear\u001b[0m\u001b[0;34m]\u001b[0m \u001b[0;34m=\u001b[0m \u001b[0mread_csv_course\u001b[0m\u001b[0;34m(\u001b[0m\u001b[0myear\u001b[0m\u001b[0;34m,\u001b[0m \u001b[0mfilter_by_course\u001b[0m\u001b[0;34m=\u001b[0m\u001b[0mfilter_by_course\u001b[0m\u001b[0;34m)\u001b[0m\u001b[0;34m\u001b[0m\u001b[0;34m\u001b[0m\u001b[0m\n\u001b[0m\u001b[1;32m      6\u001b[0m \u001b[0;34m\u001b[0m\u001b[0m\n\u001b[1;32m      7\u001b[0m     \u001b[0;32mreturn\u001b[0m \u001b[0mresult\u001b[0m\u001b[0;34m\u001b[0m\u001b[0;34m\u001b[0m\u001b[0m\n",
      "\u001b[0;32m<ipython-input-2-fead9ad37677>\u001b[0m in \u001b[0;36mread_csv_course\u001b[0;34m(year, filter_by_course)\u001b[0m\n\u001b[1;32m      1\u001b[0m \u001b[0;32mdef\u001b[0m \u001b[0mread_csv_course\u001b[0m\u001b[0;34m(\u001b[0m\u001b[0myear\u001b[0m\u001b[0;34m,\u001b[0m \u001b[0mfilter_by_course\u001b[0m\u001b[0;34m)\u001b[0m\u001b[0;34m:\u001b[0m\u001b[0;34m\u001b[0m\u001b[0;34m\u001b[0m\u001b[0m\n\u001b[0;32m----> 2\u001b[0;31m     \u001b[0mdf\u001b[0m \u001b[0;34m=\u001b[0m \u001b[0mtransform\u001b[0m\u001b[0;34m.\u001b[0m\u001b[0mread_csv\u001b[0m\u001b[0;34m(\u001b[0m\u001b[0myear\u001b[0m\u001b[0;34m)\u001b[0m\u001b[0;34m\u001b[0m\u001b[0;34m\u001b[0m\u001b[0m\n\u001b[0m\u001b[1;32m      3\u001b[0m     \u001b[0;32mif\u001b[0m \u001b[0mfilter_by_course\u001b[0m\u001b[0;34m:\u001b[0m\u001b[0;34m\u001b[0m\u001b[0;34m\u001b[0m\u001b[0m\n\u001b[1;32m      4\u001b[0m         \u001b[0mdf\u001b[0m \u001b[0;34m=\u001b[0m \u001b[0mdf\u001b[0m\u001b[0;34m.\u001b[0m\u001b[0mloc\u001b[0m\u001b[0;34m[\u001b[0m\u001b[0mdf\u001b[0m\u001b[0;34m[\u001b[0m\u001b[0;34m\"CO_CURSO\"\u001b[0m\u001b[0;34m]\u001b[0m \u001b[0;34m==\u001b[0m \u001b[0mconfig\u001b[0m\u001b[0;34m.\u001b[0m\u001b[0mCODE_COURSE\u001b[0m\u001b[0;34m]\u001b[0m\u001b[0;34m\u001b[0m\u001b[0;34m\u001b[0m\u001b[0m\n\u001b[1;32m      5\u001b[0m     \u001b[0;32mreturn\u001b[0m \u001b[0mdf\u001b[0m\u001b[0;34m\u001b[0m\u001b[0;34m\u001b[0m\u001b[0m\n",
      "\u001b[0;32m~/git/KDD-HigherEduBR/src/transformation/transform.py\u001b[0m in \u001b[0;36mread_csv\u001b[0;34m(year, path)\u001b[0m\n\u001b[1;32m     21\u001b[0m \u001b[0;32mdef\u001b[0m \u001b[0mread_csv\u001b[0m\u001b[0;34m(\u001b[0m\u001b[0myear\u001b[0m\u001b[0;34m:\u001b[0m \u001b[0mint\u001b[0m\u001b[0;34m,\u001b[0m \u001b[0mpath\u001b[0m\u001b[0;34m:\u001b[0m \u001b[0mstr\u001b[0m \u001b[0;34m=\u001b[0m \u001b[0mTRANSFORMED_DATA_DIR\u001b[0m\u001b[0;34m)\u001b[0m \u001b[0;34m->\u001b[0m \u001b[0mpd\u001b[0m\u001b[0;34m.\u001b[0m\u001b[0mDataFrame\u001b[0m\u001b[0;34m:\u001b[0m\u001b[0;34m\u001b[0m\u001b[0;34m\u001b[0m\u001b[0m\n\u001b[1;32m     22\u001b[0m     return pd.read_csv(get_transformed_enade_csv_file_path(year, path),\n\u001b[0;32m---> 23\u001b[0;31m                        dtype=config.DTYPES)\n\u001b[0m\u001b[1;32m     24\u001b[0m \u001b[0;34m\u001b[0m\u001b[0m\n\u001b[1;32m     25\u001b[0m \u001b[0;34m\u001b[0m\u001b[0m\n",
      "\u001b[0;32m/usr/local/lib/python3.6/dist-packages/pandas/io/parsers.py\u001b[0m in \u001b[0;36mread_csv\u001b[0;34m(filepath_or_buffer, sep, delimiter, header, names, index_col, usecols, squeeze, prefix, mangle_dupe_cols, dtype, engine, converters, true_values, false_values, skipinitialspace, skiprows, skipfooter, nrows, na_values, keep_default_na, na_filter, verbose, skip_blank_lines, parse_dates, infer_datetime_format, keep_date_col, date_parser, dayfirst, cache_dates, iterator, chunksize, compression, thousands, decimal, lineterminator, quotechar, quoting, doublequote, escapechar, comment, encoding, dialect, error_bad_lines, warn_bad_lines, delim_whitespace, low_memory, memory_map, float_precision)\u001b[0m\n\u001b[1;32m    684\u001b[0m     )\n\u001b[1;32m    685\u001b[0m \u001b[0;34m\u001b[0m\u001b[0m\n\u001b[0;32m--> 686\u001b[0;31m     \u001b[0;32mreturn\u001b[0m \u001b[0m_read\u001b[0m\u001b[0;34m(\u001b[0m\u001b[0mfilepath_or_buffer\u001b[0m\u001b[0;34m,\u001b[0m \u001b[0mkwds\u001b[0m\u001b[0;34m)\u001b[0m\u001b[0;34m\u001b[0m\u001b[0;34m\u001b[0m\u001b[0m\n\u001b[0m\u001b[1;32m    687\u001b[0m \u001b[0;34m\u001b[0m\u001b[0m\n\u001b[1;32m    688\u001b[0m \u001b[0;34m\u001b[0m\u001b[0m\n",
      "\u001b[0;32m/usr/local/lib/python3.6/dist-packages/pandas/io/parsers.py\u001b[0m in \u001b[0;36m_read\u001b[0;34m(filepath_or_buffer, kwds)\u001b[0m\n\u001b[1;32m    450\u001b[0m \u001b[0;34m\u001b[0m\u001b[0m\n\u001b[1;32m    451\u001b[0m     \u001b[0;31m# Create the parser.\u001b[0m\u001b[0;34m\u001b[0m\u001b[0;34m\u001b[0m\u001b[0;34m\u001b[0m\u001b[0m\n\u001b[0;32m--> 452\u001b[0;31m     \u001b[0mparser\u001b[0m \u001b[0;34m=\u001b[0m \u001b[0mTextFileReader\u001b[0m\u001b[0;34m(\u001b[0m\u001b[0mfp_or_buf\u001b[0m\u001b[0;34m,\u001b[0m \u001b[0;34m**\u001b[0m\u001b[0mkwds\u001b[0m\u001b[0;34m)\u001b[0m\u001b[0;34m\u001b[0m\u001b[0;34m\u001b[0m\u001b[0m\n\u001b[0m\u001b[1;32m    453\u001b[0m \u001b[0;34m\u001b[0m\u001b[0m\n\u001b[1;32m    454\u001b[0m     \u001b[0;32mif\u001b[0m \u001b[0mchunksize\u001b[0m \u001b[0;32mor\u001b[0m \u001b[0miterator\u001b[0m\u001b[0;34m:\u001b[0m\u001b[0;34m\u001b[0m\u001b[0;34m\u001b[0m\u001b[0m\n",
      "\u001b[0;32m/usr/local/lib/python3.6/dist-packages/pandas/io/parsers.py\u001b[0m in \u001b[0;36m__init__\u001b[0;34m(self, f, engine, **kwds)\u001b[0m\n\u001b[1;32m    934\u001b[0m             \u001b[0mself\u001b[0m\u001b[0;34m.\u001b[0m\u001b[0moptions\u001b[0m\u001b[0;34m[\u001b[0m\u001b[0;34m\"has_index_names\"\u001b[0m\u001b[0;34m]\u001b[0m \u001b[0;34m=\u001b[0m \u001b[0mkwds\u001b[0m\u001b[0;34m[\u001b[0m\u001b[0;34m\"has_index_names\"\u001b[0m\u001b[0;34m]\u001b[0m\u001b[0;34m\u001b[0m\u001b[0;34m\u001b[0m\u001b[0m\n\u001b[1;32m    935\u001b[0m \u001b[0;34m\u001b[0m\u001b[0m\n\u001b[0;32m--> 936\u001b[0;31m         \u001b[0mself\u001b[0m\u001b[0;34m.\u001b[0m\u001b[0m_make_engine\u001b[0m\u001b[0;34m(\u001b[0m\u001b[0mself\u001b[0m\u001b[0;34m.\u001b[0m\u001b[0mengine\u001b[0m\u001b[0;34m)\u001b[0m\u001b[0;34m\u001b[0m\u001b[0;34m\u001b[0m\u001b[0m\n\u001b[0m\u001b[1;32m    937\u001b[0m \u001b[0;34m\u001b[0m\u001b[0m\n\u001b[1;32m    938\u001b[0m     \u001b[0;32mdef\u001b[0m \u001b[0mclose\u001b[0m\u001b[0;34m(\u001b[0m\u001b[0mself\u001b[0m\u001b[0;34m)\u001b[0m\u001b[0;34m:\u001b[0m\u001b[0;34m\u001b[0m\u001b[0;34m\u001b[0m\u001b[0m\n",
      "\u001b[0;32m/usr/local/lib/python3.6/dist-packages/pandas/io/parsers.py\u001b[0m in \u001b[0;36m_make_engine\u001b[0;34m(self, engine)\u001b[0m\n\u001b[1;32m   1166\u001b[0m     \u001b[0;32mdef\u001b[0m \u001b[0m_make_engine\u001b[0m\u001b[0;34m(\u001b[0m\u001b[0mself\u001b[0m\u001b[0;34m,\u001b[0m \u001b[0mengine\u001b[0m\u001b[0;34m=\u001b[0m\u001b[0;34m\"c\"\u001b[0m\u001b[0;34m)\u001b[0m\u001b[0;34m:\u001b[0m\u001b[0;34m\u001b[0m\u001b[0;34m\u001b[0m\u001b[0m\n\u001b[1;32m   1167\u001b[0m         \u001b[0;32mif\u001b[0m \u001b[0mengine\u001b[0m \u001b[0;34m==\u001b[0m \u001b[0;34m\"c\"\u001b[0m\u001b[0;34m:\u001b[0m\u001b[0;34m\u001b[0m\u001b[0;34m\u001b[0m\u001b[0m\n\u001b[0;32m-> 1168\u001b[0;31m             \u001b[0mself\u001b[0m\u001b[0;34m.\u001b[0m\u001b[0m_engine\u001b[0m \u001b[0;34m=\u001b[0m \u001b[0mCParserWrapper\u001b[0m\u001b[0;34m(\u001b[0m\u001b[0mself\u001b[0m\u001b[0;34m.\u001b[0m\u001b[0mf\u001b[0m\u001b[0;34m,\u001b[0m \u001b[0;34m**\u001b[0m\u001b[0mself\u001b[0m\u001b[0;34m.\u001b[0m\u001b[0moptions\u001b[0m\u001b[0;34m)\u001b[0m\u001b[0;34m\u001b[0m\u001b[0;34m\u001b[0m\u001b[0m\n\u001b[0m\u001b[1;32m   1169\u001b[0m         \u001b[0;32melse\u001b[0m\u001b[0;34m:\u001b[0m\u001b[0;34m\u001b[0m\u001b[0;34m\u001b[0m\u001b[0m\n\u001b[1;32m   1170\u001b[0m             \u001b[0;32mif\u001b[0m \u001b[0mengine\u001b[0m \u001b[0;34m==\u001b[0m \u001b[0;34m\"python\"\u001b[0m\u001b[0;34m:\u001b[0m\u001b[0;34m\u001b[0m\u001b[0;34m\u001b[0m\u001b[0m\n",
      "\u001b[0;32m/usr/local/lib/python3.6/dist-packages/pandas/io/parsers.py\u001b[0m in \u001b[0;36m__init__\u001b[0;34m(self, src, **kwds)\u001b[0m\n\u001b[1;32m   1996\u001b[0m         \u001b[0mkwds\u001b[0m\u001b[0;34m[\u001b[0m\u001b[0;34m\"usecols\"\u001b[0m\u001b[0;34m]\u001b[0m \u001b[0;34m=\u001b[0m \u001b[0mself\u001b[0m\u001b[0;34m.\u001b[0m\u001b[0musecols\u001b[0m\u001b[0;34m\u001b[0m\u001b[0;34m\u001b[0m\u001b[0m\n\u001b[1;32m   1997\u001b[0m \u001b[0;34m\u001b[0m\u001b[0m\n\u001b[0;32m-> 1998\u001b[0;31m         \u001b[0mself\u001b[0m\u001b[0;34m.\u001b[0m\u001b[0m_reader\u001b[0m \u001b[0;34m=\u001b[0m \u001b[0mparsers\u001b[0m\u001b[0;34m.\u001b[0m\u001b[0mTextReader\u001b[0m\u001b[0;34m(\u001b[0m\u001b[0msrc\u001b[0m\u001b[0;34m,\u001b[0m \u001b[0;34m**\u001b[0m\u001b[0mkwds\u001b[0m\u001b[0;34m)\u001b[0m\u001b[0;34m\u001b[0m\u001b[0;34m\u001b[0m\u001b[0m\n\u001b[0m\u001b[1;32m   1999\u001b[0m         \u001b[0mself\u001b[0m\u001b[0;34m.\u001b[0m\u001b[0munnamed_cols\u001b[0m \u001b[0;34m=\u001b[0m \u001b[0mself\u001b[0m\u001b[0;34m.\u001b[0m\u001b[0m_reader\u001b[0m\u001b[0;34m.\u001b[0m\u001b[0munnamed_cols\u001b[0m\u001b[0;34m\u001b[0m\u001b[0;34m\u001b[0m\u001b[0m\n\u001b[1;32m   2000\u001b[0m \u001b[0;34m\u001b[0m\u001b[0m\n",
      "\u001b[0;32mpandas/_libs/parsers.pyx\u001b[0m in \u001b[0;36mpandas._libs.parsers.TextReader.__cinit__\u001b[0;34m()\u001b[0m\n",
      "\u001b[0;32mpandas/_libs/parsers.pyx\u001b[0m in \u001b[0;36mpandas._libs.parsers.TextReader._setup_parser_source\u001b[0;34m()\u001b[0m\n",
      "\u001b[0;31mFileNotFoundError\u001b[0m: [Errno 2] No such file or directory: 'data/transformed_data/microdados_transformados_2017.csv'"
     ]
    }
   ],
   "source": [
    "enade_all_years_course = get_dict_all_years(filter_by_course=True)\n",
    "enade_all_years_br = get_dict_all_years(filter_by_course=False)"
   ]
  },
  {
   "cell_type": "code",
   "execution_count": null,
   "metadata": {},
   "outputs": [],
   "source": [
    "def get_display_dfs_difficulty(enade_all_years_dict: dict) -> dict:\n",
    "    result = {}\n",
    "    for year in enade_all_years_dict.keys():\n",
    "        display_df, enade_all_years_dict[year] = get_display_df_difficulty(year,\n",
    "                                                                           enade_all_years_dict[year],\n",
    "                                                                           difficulty_df)\n",
    "        result[year] = display_df\n",
    "    return result\n",
    "\n",
    "display_dfs_difficulty_course = get_display_dfs_difficulty(enade_all_years_course)\n",
    "display_dfs_difficulty_br = get_display_dfs_difficulty(enade_all_years_br)"
   ]
  },
  {
   "cell_type": "code",
   "execution_count": null,
   "metadata": {},
   "outputs": [],
   "source": [
    "\n",
    "print(\"Curso - 2017\")\n",
    "display_dfs_difficulty_course[2017]"
   ]
  },
  {
   "cell_type": "code",
   "execution_count": null,
   "metadata": {},
   "outputs": [],
   "source": [
    "print(\"Brasil - 2017\")\n",
    "display_dfs_difficulty_br[2017]\n"
   ]
  },
  {
   "cell_type": "code",
   "execution_count": null,
   "metadata": {},
   "outputs": [],
   "source": [
    "print(\"Curso - 2014\")\n",
    "display_dfs_difficulty_course[2014]"
   ]
  },
  {
   "cell_type": "code",
   "execution_count": null,
   "metadata": {},
   "outputs": [],
   "source": [
    "print(\"Brasil - 2014\")\n",
    "\n",
    "display_dfs_difficulty_br[2014]"
   ]
  },
  {
   "cell_type": "code",
   "execution_count": null,
   "metadata": {},
   "outputs": [],
   "source": [
    "print(\"Curso - 2011\")\n",
    "display_dfs_difficulty_course[2011]"
   ]
  },
  {
   "cell_type": "code",
   "execution_count": null,
   "metadata": {},
   "outputs": [],
   "source": [
    "print(\"Brasil - 2011\")\n",
    "\n",
    "display_dfs_difficulty_br[2011]"
   ]
  },
  {
   "cell_type": "code",
   "execution_count": null,
   "metadata": {},
   "outputs": [],
   "source": [
    "print(\"Curso - 2008\")\n",
    "display_dfs_difficulty_course[2008]"
   ]
  },
  {
   "cell_type": "code",
   "execution_count": null,
   "metadata": {},
   "outputs": [],
   "source": [
    "print(\"Brasil - 2008\")\n",
    "\n",
    "display_dfs_difficulty_br[2008]"
   ]
  },
  {
   "cell_type": "code",
   "execution_count": null,
   "metadata": {},
   "outputs": [],
   "source": [
    "print(\"Curso - 2005\")\n",
    "display_dfs_difficulty_course[2005]"
   ]
  },
  {
   "cell_type": "code",
   "execution_count": null,
   "metadata": {},
   "outputs": [],
   "source": [
    "print(\"Brasil - 2005\")\n",
    "\n",
    "display_dfs_difficulty_br[2005]"
   ]
  },
  {
   "cell_type": "code",
   "execution_count": null,
   "metadata": {},
   "outputs": [],
   "source": [
    "print(\"Nota % por ano - Curso\")\n",
    "display_all_years_nota(display_dfs_difficulty_course)"
   ]
  },
  {
   "cell_type": "code",
   "execution_count": null,
   "metadata": {},
   "outputs": [],
   "source": [
    "print(\"Nota % por ano - Brasil\")\n",
    "display_all_years_nota(display_dfs_difficulty_br)"
   ]
  },
  {
   "cell_type": "code",
   "execution_count": null,
   "metadata": {},
   "outputs": [],
   "source": [
    "print(\"Brasil\")\n",
    "difficulty_all_br_df = get_all_years_combined_df(display_dfs_difficulty_br, enade_all_years_br, DIFFICULTIES)\n",
    "difficulty_all_br_df"
   ]
  },
  {
   "cell_type": "code",
   "execution_count": null,
   "metadata": {},
   "outputs": [],
   "source": [
    "print(\"Curso\")\n",
    "difficulty_all_course_df = get_all_years_combined_df(display_dfs_difficulty_course, enade_all_years_course, DIFFICULTIES)\n",
    "difficulty_all_course_df"
   ]
  },
  {
   "cell_type": "code",
   "execution_count": null,
   "metadata": {},
   "outputs": [],
   "source": [
    "N = 5\n",
    "br = difficulty_all_br_df[\"Nota %\"]\n",
    "course = difficulty_all_course_df[\"Nota %\"]\n",
    "ind = np.arange(N)    # the x locations for the groups\n",
    "width = 0.35       # the width of the bars: can also be len(x) sequence\n",
    "\n",
    "ax = plt.subplot(111)\n",
    "p2 = ax.bar(ind - width/2, br, width, color=\"black\")\n",
    "p1 = ax.bar(ind + width/2, course, width, color=\"gray\")\n",
    "\n",
    "\n",
    "plt.ylabel('%')\n",
    "plt.title('Percentual de acerto no ENADE por dificuldade da questão (considerando todos os anos do exame)')\n",
    "plt.xticks(ind, difficulty_all_br_df.index)\n",
    "#plt.yticks(np.arange(0, 81, 10))\n",
    "plt.legend((p1[0], p2[0]), ('Curso', 'Brasil'))\n",
    "ax.grid(axis = 'y', color ='white', linestyle='-')\n",
    "ax.spines['top'].set_visible(False)\n",
    "ax.spines['right'].set_visible(False)\n",
    "\n",
    "plt.show()"
   ]
  }
 ],
 "metadata": {
  "kernelspec": {
   "display_name": "Python 3",
   "language": "python",
   "name": "python3"
  },
  "language_info": {
   "codemirror_mode": {
    "name": "ipython",
    "version": 3
   },
   "file_extension": ".py",
   "mimetype": "text/x-python",
   "name": "python",
   "nbconvert_exporter": "python",
   "pygments_lexer": "ipython3",
   "version": "3.6.9"
  }
 },
 "nbformat": 4,
 "nbformat_minor": 2
}
