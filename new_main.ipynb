{
 "cells": [
  {
   "cell_type": "code",
   "execution_count": 1,
   "metadata": {},
   "outputs": [],
   "source": [
    "import pandas as pd\n",
    "import numpy as np\n",
    "from src import util\n",
    "from src.process2004_2017 import get_processed_enade_2014_2017\n",
    "from src.process2011 import get_processed_enade_2011\n",
    "from src.process2008 import get_processed_enade_2008\n",
    "from src.process2005 import get_processed_enade_2005\n",
    "from src import config\n",
    "from src import subject_manipulation\n",
    "from typing import Tuple"
   ]
  },
  {
   "cell_type": "code",
   "execution_count": 2,
   "metadata": {},
   "outputs": [],
   "source": [
    "subject_df = subject_manipulation.get_processed_subject_df()"
   ]
  },
  {
   "cell_type": "code",
   "execution_count": null,
   "metadata": {},
   "outputs": [],
   "source": [
    "def get_display_df(year: int, input_df: pd.DataFrame,\n",
    "                   subject_df: pd.DataFrame) -> Tuple[pd.DataFrame, pd.DataFrame, pd.DataFrame]:\n",
    "    temp_subject_df = subject_df.loc[subject_df['ano'] == year].copy()\n",
    "    \n",
    "    \n",
    "    new_mapping = input_df[\"TP_PRES\"].map({222:\"Ausente\", 555:\"Presente\"}).values\n",
    "    input_df.loc[:, \"TP_PRES\"] = new_mapping\n",
    "    presence_df = input_df[\"TP_PRES\"].value_counts()\n",
    "    \n",
    "    input_df = input_df.loc[input_df[\"TP_PRES\"] == \"Presente\"]\n",
    "    input_df = util.add_all_score_subjects(input_df, temp_subject_df, objective=True)\n",
    "    \n",
    "    \n",
    "    num_questions = []\n",
    "    mean_acertos_by_subject = []\n",
    "    std_acertos_by_subject = []\n",
    "    column_zero_subject = []\n",
    "    column_geq_one_subject = []\n",
    "    column_all_subject = []\n",
    "    num_alunos = input_df.shape[0]\n",
    "\n",
    "    subjects = util.get_subjects(temp_subject_df)\n",
    "\n",
    "    \n",
    "    for subject in subjects:\n",
    "        subject_questions = util.get_subject_valid_questions(subject, \n",
    "                                                                 temp_subject_df,\n",
    "                                                                 input_df,\n",
    "                                                                 just_objective=True)\n",
    "        num_obj_subject_questions = len(subject_questions)\n",
    "    \n",
    "    \n",
    "    \n",
    "        mean_acertos_subject = input_df[f\"ACERTOS_OBJ_{subject}\"].mean()\n",
    "    \n",
    "        std_acertos_subject = input_df[f\"ACERTOS_OBJ_{subject}\"].std()\n",
    "    \n",
    "        zero_subject_count = input_df[f\"ACERTOS_OBJ_{subject}\"].value_counts()\n",
    "\n",
    "        if 0 in zero_subject_count.index:\n",
    "            zero_subject = zero_subject_count[0] / num_alunos\n",
    "        else:\n",
    "            zero_subject = 0\n",
    "    \n",
    "        geq_one_subject_count = (input_df[f\"ACERTOS_OBJ_{subject}\"] >= 1).value_counts()\n",
    "        if True in geq_one_subject_count.index:\n",
    "            geq_one_subject = geq_one_subject_count[True] / num_alunos\n",
    "        else:\n",
    "            geq_one_subject = 0\n",
    "    \n",
    "        all_subject_count = (input_df[f\"ACERTOS_OBJ_{subject}\"] == num_obj_subject_questions).value_counts()\n",
    "        if True in all_subject_count.index:\n",
    "            all_subject = (all_subject_count[True] / num_alunos)\n",
    "        else:\n",
    "            all_subject = 0\n",
    "        \n",
    "        if num_obj_subject_questions > 0:\n",
    "            num_questions.append(num_obj_subject_questions)\n",
    "            mean_acertos_by_subject.append(mean_acertos_subject)\n",
    "            std_acertos_by_subject.append(std_acertos_subject)\n",
    "            column_zero_subject.append(zero_subject)\n",
    "            column_geq_one_subject.append(geq_one_subject)\n",
    "            column_all_subject.append(all_subject)\n",
    "        else:\n",
    "            num_questions.append(0)\n",
    "            mean_acertos_by_subject.append(None)\n",
    "            std_acertos_by_subject.append(None)\n",
    "            column_zero_subject.append(None)\n",
    "            column_geq_one_subject.append(None)\n",
    "            column_all_subject.append(None)\n",
    "\n",
    "    subjects_labels = [f\"SCORE_OBJ_{x}\" for x in subjects]\n",
    "\n",
    "    mean_by_subject = input_df[subjects_labels].mean().values\n",
    "\n",
    "    data = np.array([mean_by_subject, num_questions]).T\n",
    "\n",
    "    display_df = pd.DataFrame(data=data, index=subjects, \n",
    "                          columns=[\"Nota %\", \"Nº Questões\"])\n",
    "    display_df[\"Nº Questões\"] = display_df[\"Nº Questões\"].astype(int, errors=\"ignore\")\n",
    "    display_df[\"Média Acertos\"] = mean_acertos_by_subject\n",
    "    display_df[\"Desvio Padrão Acertos\"] = std_acertos_by_subject\n",
    "    display_df[\"% de Zeros\"] = column_zero_subject\n",
    "    display_df[\"% de Zeros\"] = display_df[\"% de Zeros\"]*100\n",
    "    display_df[\"% de Alunos que acertaram pelo menos uma questão\"] = column_geq_one_subject\n",
    "    display_df[\"% de Alunos que acertaram pelo menos uma questão\"] = display_df[\"% de Alunos que acertaram pelo menos uma questão\"]*100\n",
    "    display_df[\"% de Alunos que acertaram todas\"] = column_all_subject\n",
    "    display_df[\"% de Alunos que acertaram todas\"] = display_df[\"% de Alunos que acertaram todas\"]*100\n",
    "\n",
    "    display_df = display_df.sort_values(by=[\"Nota %\"]).round(2)\n",
    "\n",
    "    \n",
    "    return display_df, input_df, presence_df\n",
    "    \n",
    "    "
   ]
  },
  {
   "cell_type": "code",
   "execution_count": null,
   "metadata": {},
   "outputs": [],
   "source": [
    "years = [2017, 2014, 2011, 2008, 2005]\n",
    "first_paths = [f\"data/enade/enade{x}/3.DADOS/MICRODADOS_ENADE_{x}.txt\" for x in years[:3]]\n",
    "second_paths = [f\"data/enade/enade{x}/2.DADOS/microdados_enade_{x}.csv\" for x in years[3:]]\n",
    "paths = first_paths + second_paths\n",
    "enade_2017 = get_processed_enade_2014_2017(paths[0])\n",
    "enade_2014 = get_processed_enade_2014_2017(paths[1])\n",
    "enade_2011 = get_processed_enade_2011(paths[2])\n",
    "enade_2008, _ = get_processed_enade_2008(paths[3])\n",
    "enade_2005, _ = get_processed_enade_2005(paths[4])\n",
    "\n",
    "dfs = [enade_2017, enade_2014, enade_2011, enade_2008, enade_2005]\n",
    "display_dfs = []\n",
    "presence_dfs = []\n",
    "\n",
    "for index, (enade_df, year) in enumerate(zip(dfs, years)):\n",
    "    display_df, df, presence_df = get_display_df(year, enade_df, subject_df)\n",
    "    dfs[index] = df\n",
    "    display_dfs.append(display_df)\n",
    "    presence_dfs.append(presence_df)\n",
    "    \n",
    "    "
   ]
  },
  {
   "cell_type": "code",
   "execution_count": null,
   "metadata": {},
   "outputs": [],
   "source": [
    "print(\"ANO de 2017\")\n",
    "display_dfs[0]\n"
   ]
  },
  {
   "cell_type": "code",
   "execution_count": null,
   "metadata": {},
   "outputs": [],
   "source": []
  },
  {
   "cell_type": "code",
   "execution_count": null,
   "metadata": {},
   "outputs": [],
   "source": [
    "print(\"Ano de 2014\")\n",
    "display_dfs[1]"
   ]
  },
  {
   "cell_type": "code",
   "execution_count": null,
   "metadata": {},
   "outputs": [],
   "source": [
    "print(\"Ano de 2011\")\n",
    "display_dfs[2]"
   ]
  },
  {
   "cell_type": "code",
   "execution_count": null,
   "metadata": {},
   "outputs": [],
   "source": [
    "print(\"Ano de 2008\")\n",
    "display_dfs[3]"
   ]
  },
  {
   "cell_type": "code",
   "execution_count": null,
   "metadata": {},
   "outputs": [],
   "source": [
    "print(\"Ano de 2005\")\n",
    "display_dfs[4]"
   ]
  },
  {
   "cell_type": "code",
   "execution_count": null,
   "metadata": {},
   "outputs": [],
   "source": [
    "subject_score_by_year = {\"2005\": display_dfs[4][\"Nota %\"].copy(),\n",
    "                         \"2008\": display_dfs[3][\"Nota %\"].copy(),\n",
    "                         \"2011\": display_dfs[2][\"Nota %\"].copy(),\n",
    "                         \"2014\": display_dfs[1][\"Nota %\"].copy(),\n",
    "                         \"2017\": display_dfs[0][\"Nota %\"].copy()}\n",
    "subject_score_by_year_df = pd.DataFrame(subject_score_by_year)\n",
    "print(\"Nota % por ano\")\n",
    "subject_score_by_year_df"
   ]
  },
  {
   "cell_type": "code",
   "execution_count": null,
   "metadata": {},
   "outputs": [],
   "source": [
    "num_questions_answered = []\n",
    "for df, year in zip(display_dfs, years):\n",
    "    num_questions = df[\"Nº Questões\"].astype(int).copy()\n",
    "    print(num_questions)\n",
    "    num_questions *= int(presence_by_year_df.loc[\"Presente\", f\"{year}\"])\n",
    "    num_questions_answered.append(num_questions)\n",
    "num_questions_answered[0]\n",
    "sum_questions_answered = num_questions_answered[0].copy()\n",
    "for df in num_questions_answered[1:]:\n",
    "    sum_questions_answered = pd.concat([sum_questions_answered, df])\n",
    "sum_questions_answered"
   ]
  },
  {
   "cell_type": "code",
   "execution_count": null,
   "metadata": {},
   "outputs": [],
   "source": [
    "columns = [f\"ACERTOS_OBJ_{x}\" for x in subjects]\n",
    "print(len(columns))\n",
    "subjects = util.get_subjects(subject_df)\n",
    "big_df = dfs[0].copy()\n",
    "for df in dfs[1:]:\n",
    "    big_df = pd.concat([big_df, df.copy()], ignore_index=True)\n",
    "big_df[columns].sum()"
   ]
  },
  {
   "cell_type": "code",
   "execution_count": null,
   "metadata": {},
   "outputs": [],
   "source": [
    "presence_by_year = {\"2005\": presence_dfs[4].copy(),\n",
    "                    \"2008\": presence_dfs[3].copy(),\n",
    "                    \"2011\": presence_dfs[2].copy(),\n",
    "                    \"2014\": presence_dfs[1].copy(),\n",
    "                    \"2017\": presence_dfs[0].copy()}\n",
    "\n",
    "presence_by_year_df = pd.DataFrame(presence_by_year)\n",
    "#presence_by_year_df[\"2011\"] = presence_by_year_df[\"2011\"].fillna(0)\n",
    "presence_by_year_df.fillna(0).astype(int)\n"
   ]
  },
  {
   "cell_type": "code",
   "execution_count": null,
   "metadata": {},
   "outputs": [],
   "source": [
    "for subject in subjects:\n",
    "    subject_questions = util.get_subject_valid_questions(subject, \n",
    "                                                         subject_df,\n",
    "                                                                 input_df,\n",
    "                                                                 just_objective=True)\n",
    "        num_obj_subject_questions = len(subject_questions)"
   ]
  },
  {
   "cell_type": "code",
   "execution_count": null,
   "metadata": {},
   "outputs": [],
   "source": [
    "subjects = util.get_subjects(subject_df)\n",
    "columns = [f\"ACERTOS_OBJ_{x}\" for x in subjects]\n",
    "dfs[0][columns].sum()"
   ]
  },
  {
   "cell_type": "code",
   "execution_count": null,
   "metadata": {},
   "outputs": [],
   "source": [
    "dfs[0].columns"
   ]
  },
  {
   "cell_type": "code",
   "execution_count": null,
   "metadata": {},
   "outputs": [],
   "source": [
    "subjects = util.get_subjects(subject_df)\n",
    "subjects"
   ]
  },
  {
   "cell_type": "code",
   "execution_count": null,
   "metadata": {},
   "outputs": [],
   "source": []
  },
  {
   "cell_type": "code",
   "execution_count": null,
   "metadata": {},
   "outputs": [],
   "source": [
    "enade_2017_df, original_df = get_processed_enade_2005(f\"data/enade/enade{year}/2.DADOS/microdados_enade_{year}.csv\")\n",
    "enade_2017_df.head()"
   ]
  },
  {
   "cell_type": "code",
   "execution_count": null,
   "metadata": {},
   "outputs": [],
   "source": [
    "enade_2017_df = util.add_all_score_subjects(enade_2017_df, subject_df, objective=True)"
   ]
  },
  {
   "cell_type": "code",
   "execution_count": null,
   "metadata": {},
   "outputs": [],
   "source": [
    "enade_2017_df.head()[[f\"QUESTAO_{i}_NOTA\" for i in range(1, 41)]]"
   ]
  },
  {
   "cell_type": "code",
   "execution_count": null,
   "metadata": {},
   "outputs": [],
   "source": [
    "enade_2017_df[[f\"QUESTAO_{x}_NOTA\" for x in range(11, 11+10)]]"
   ]
  },
  {
   "cell_type": "code",
   "execution_count": null,
   "metadata": {},
   "outputs": [],
   "source": [
    "enade_2017_df[f\"QUESTAO_{36}_STATUS\"]"
   ]
  },
  {
   "cell_type": "code",
   "execution_count": null,
   "metadata": {},
   "outputs": [],
   "source": [
    "# medias dos alunos por cada tema, junto com o número de questões\n",
    "num_questions = []\n",
    "mean_acertos_by_subject = []\n",
    "std_acertos_by_subject = []\n",
    "column_zero_subject = []\n",
    "column_geq_one_subject = []\n",
    "column_all_subject = []\n",
    "num_alunos = enade_2017_df.shape[0]\n",
    "\n",
    "for subject in subjects:\n",
    "    subject_questions = util.get_subject_valid_questions(subject, \n",
    "                                                                 subject_df,\n",
    "                                                                 enade_2017_df,\n",
    "                                                                 just_objective=True)\n",
    "    num_obj_subject_questions = len(subject_questions)\n",
    "    \n",
    "    \n",
    "    \n",
    "    mean_acertos_subject = enade_2017_df[f\"ACERTOS_OBJ_{subject}\"].mean()\n",
    "    \n",
    "    std_acertos_subject = enade_2017_df[f\"ACERTOS_OBJ_{subject}\"].std()\n",
    "    \n",
    "    zero_subject_count = enade_2017_df[f\"ACERTOS_OBJ_{subject}\"].value_counts()\n",
    "\n",
    "    if 0 in zero_subject_count.index:\n",
    "        zero_subject = zero_subject_count[0] / num_alunos\n",
    "    else:\n",
    "        zero_subject = 0\n",
    "    \n",
    "    geq_one_subject_count = (enade_2017_df[f\"ACERTOS_OBJ_{subject}\"] >= 1).value_counts()\n",
    "    if True in geq_one_subject_count.index:\n",
    "        geq_one_subject = geq_one_subject_count[True] / num_alunos\n",
    "    else:\n",
    "        geq_one_subject = 0\n",
    "    \n",
    "    all_subject_count = (enade_2017_df[f\"ACERTOS_OBJ_{subject}\"] == num_obj_subject_questions).value_counts()\n",
    "    if True in all_subject_count.index:\n",
    "        all_subject = (all_subject_count[True] / num_alunos)\n",
    "    else:\n",
    "        all_subject = 0\n",
    "        \n",
    "    if num_obj_subject_questions > 0:\n",
    "        num_questions.append(num_obj_subject_questions)\n",
    "        mean_acertos_by_subject.append(mean_acertos_subject)\n",
    "        std_acertos_by_subject.append(std_acertos_subject)\n",
    "        column_zero_subject.append(zero_subject)\n",
    "        column_geq_one_subject.append(geq_one_subject)\n",
    "        column_all_subject.append(all_subject)\n",
    "    else:\n",
    "        num_questions.append(0)\n",
    "        mean_acertos_by_subject.append(None)\n",
    "        std_acertos_by_subject.append(None)\n",
    "        column_zero_subject.append(None)\n",
    "        column_geq_one_subject.append(None)\n",
    "        column_all_subject.append(None)\n",
    "\n",
    "    \n",
    "subjects_labels = [f\"SCORE_OBJ_{x}\" for x in subjects]\n",
    "\n",
    "mean_by_subject = enade_2017_df[subjects_labels].mean().values\n",
    "\n",
    "data = np.array([mean_by_subject, num_questions]).T\n",
    "\n",
    "display_df = pd.DataFrame(data=data, index=subjects, \n",
    "                          columns=[\"Nota %\", \"Nº Questões\"])\n",
    "display_df[\"Nº Questões\"] = display_df[\"Nº Questões\"].astype(int, errors=\"ignore\")\n",
    "display_df[\"Média Acertos\"] = mean_acertos_by_subject\n",
    "display_df[\"Desvio Padrão Acertos\"] = std_acertos_by_subject\n",
    "display_df[\"% de Zeros\"] = column_zero_subject\n",
    "display_df[\"% de Zeros\"] = display_df[\"% de Zeros\"]*100\n",
    "display_df[\"% de Alunos que acertaram pelo menos uma questão\"] = column_geq_one_subject\n",
    "display_df[\"% de Alunos que acertaram pelo menos uma questão\"] = display_df[\"% de Alunos que acertaram pelo menos uma questão\"]*100\n",
    "display_df[\"% de Alunos que acertaram todas\"] = column_all_subject\n",
    "display_df[\"% de Alunos que acertaram todas\"] = display_df[\"% de Alunos que acertaram todas\"]*100\n",
    "\n",
    "display_df = display_df.sort_values(by=[\"Nota %\"]).round(2)\n",
    "display_df\n"
   ]
  },
  {
   "cell_type": "code",
   "execution_count": null,
   "metadata": {},
   "outputs": [],
   "source": [
    "original_df[[\"vt_esc_ofg\", \"vt_esc_oce\"]]"
   ]
  },
  {
   "cell_type": "code",
   "execution_count": null,
   "metadata": {},
   "outputs": [],
   "source": [
    "objective_questions = subject_manipulation.get_objective_questions(subject_df)\n",
    "enade_2017_df_objective = enade_2017_df[[f\"QUESTAO_{i}_NOTA\" for i in objective_questions]]\n",
    "num_blank = 0\n",
    "num_deletion = 0\n",
    "for column in enade_2017_df_objective.columns:\n",
    "    if \"BRANCO\" in enade_2017_df_objective[column].values:\n",
    "        num_blank += enade_2017_df_objective[column].value_counts()[\"BRANCO\"]\n",
    "    if \"RASURA\" in enade_2017_df_objective[column].values:\n",
    "        num_deletion += enade_2017_df_objective[column].value_counts()[\"RASURA\"]\n",
    "percentage_blank = num_blank * 100 / np.prod(enade_2017_df_objective.shape)\n",
    "percentage_blank = round(percentage_blank, 2)\n",
    "\n",
    "\n",
    "\n",
    "print(f\"{num_blank} questão/questões marcada(s) em branco, o que equivale a \"\n",
    "      f\"{percentage_blank}% das questões objetivas\")\n",
    "print(f\"{num_deletion} questão/questões rasurada(s)\")"
   ]
  }
 ],
 "metadata": {
  "kernelspec": {
   "display_name": "Python 3",
   "language": "python",
   "name": "python3"
  },
  "language_info": {
   "codemirror_mode": {
    "name": "ipython",
    "version": 3
   },
   "file_extension": ".py",
   "mimetype": "text/x-python",
   "name": "python",
   "nbconvert_exporter": "python",
   "pygments_lexer": "ipython3",
   "version": "3.6.9"
  }
 },
 "nbformat": 4,
 "nbformat_minor": 2
}
