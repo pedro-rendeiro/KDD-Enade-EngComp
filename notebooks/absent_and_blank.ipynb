{
 "cells": [
  {
   "cell_type": "code",
   "execution_count": 1,
   "metadata": {},
   "outputs": [
    {
     "name": "stdout",
     "output_type": "stream",
     "text": [
      "/home/renan/git/KDD-Enade-Computing\n"
     ]
    }
   ],
   "source": [
    "%cd ../"
   ]
  },
  {
   "cell_type": "code",
   "execution_count": 2,
   "metadata": {},
   "outputs": [],
   "source": [
    "import pandas as pd\n",
    "import numpy as np\n",
    "from src import util\n",
    "from src.transformation import transform\n",
    "from src import config\n",
    "from src import subject_manipulation\n",
    "from typing import Tuple, List\n",
    "from src.config import SUBJECT_DF_PATH, BLANK_ANSWER_LABEL, DELETION_ANSWER_LABEL, CANCELLED_LABEL, DIFFICULTIES, \\\n",
    "    MATH_SUBJECTS, COMPUTING_SUBJECTS, HUMAN_SUBJECTS, TECHNOLOGY_SUBJECTS\n",
    "import matplotlib.pyplot as plt\n",
    "import seaborn as sns\n",
    "import matplotlib\n",
    "import matplotlib.patches as mpatches\n"
   ]
  },
  {
   "cell_type": "code",
   "execution_count": 3,
   "metadata": {
    "tags": [
     "parameters"
    ]
   },
   "outputs": [],
   "source": [
    "CODE_COURSE = \"12025\""
   ]
  },
  {
   "cell_type": "code",
   "execution_count": 4,
   "metadata": {},
   "outputs": [],
   "source": [
    "years = [2017, 2014, 2011, 2008, 2005]"
   ]
  },
  {
   "cell_type": "code",
   "execution_count": 5,
   "metadata": {},
   "outputs": [],
   "source": [
    "def read_csv_course(year, filter_by_course):\n",
    "    df = transform.read_csv(year)\n",
    "    if filter_by_course:\n",
    "        df = df.loc[df[\"CO_CURSO\"] == CODE_COURSE]\n",
    "    return df"
   ]
  },
  {
   "cell_type": "code",
   "execution_count": 6,
   "metadata": {},
   "outputs": [],
   "source": [
    "subject_df = subject_manipulation.get_processed_subject_df(SUBJECT_DF_PATH)"
   ]
  },
  {
   "cell_type": "code",
   "execution_count": 7,
   "metadata": {},
   "outputs": [],
   "source": [
    "def get_display_df(year: int, input_df: pd.DataFrame,\n",
    "                   subject_df: pd.DataFrame) -> Tuple[pd.DataFrame, pd.DataFrame, pd.DataFrame]:\n",
    "    temp_subject_df = subject_df.loc[subject_df['ano'] == year].copy()\n",
    "    \n",
    "    util.map_presence(input_df)\n",
    "    presence_df = input_df[\"TP_PRES\"].value_counts()\n",
    "    \n",
    "    input_df = util.filter_present_students(input_df)\n",
    "    subjects = util.get_subjects(temp_subject_df)\n",
    "    input_df = util.add_all_score_categories(input_df, temp_subject_df, True, \n",
    "                                           subjects, util.get_subject_valid_questions)\n",
    "    \n",
    "    num_questions = []\n",
    "    mean_acertos_by_subject = []\n",
    "    std_acertos_by_subject = []\n",
    "    column_zero_subject = []\n",
    "    column_geq_one_subject = []\n",
    "    column_all_subject = []\n",
    "    num_alunos = input_df.shape[0]\n",
    "\n",
    "    \n",
    "\n",
    "    \n",
    "    for subject in subjects:\n",
    "        subject_questions = util.get_subject_valid_questions(subject, \n",
    "                                                                 temp_subject_df,\n",
    "                                                                 input_df,\n",
    "                                                                 just_objective=True)\n",
    "        num_obj_subject_questions = len(subject_questions)\n",
    "    \n",
    "    \n",
    "    \n",
    "        mean_acertos_subject = input_df[f\"ACERTOS_OBJ_{subject}\"].mean()\n",
    "    \n",
    "        std_acertos_subject = input_df[f\"ACERTOS_OBJ_{subject}\"].std()\n",
    "    \n",
    "        zero_subject_percentage = list(input_df[f\"ACERTOS_OBJ_{subject}\"]).count(0) * 100 / num_alunos\n",
    "    \n",
    "        geq_one_subject_percentage = list(input_df[f\"ACERTOS_OBJ_{subject}\"] >= 1).count(True) * 100 / num_alunos\n",
    "        \n",
    "        all_subject_percentage = list(input_df[f\"ACERTOS_OBJ_{subject}\"] == num_obj_subject_questions).count(True) * 100 / num_alunos\n",
    "        \n",
    "        if num_obj_subject_questions > 0:\n",
    "            num_questions.append(num_obj_subject_questions)\n",
    "            mean_acertos_by_subject.append(mean_acertos_subject)\n",
    "            std_acertos_by_subject.append(std_acertos_subject)\n",
    "            column_zero_subject.append(zero_subject_percentage)\n",
    "            column_geq_one_subject.append(geq_one_subject_percentage)\n",
    "            column_all_subject.append(all_subject_percentage)\n",
    "        else:\n",
    "            num_questions.append(0)\n",
    "            mean_acertos_by_subject.append(None)\n",
    "            std_acertos_by_subject.append(None)\n",
    "            column_zero_subject.append(None)\n",
    "            column_geq_one_subject.append(None)\n",
    "            column_all_subject.append(None)\n",
    "\n",
    "    subjects_labels = [f\"SCORE_OBJ_{x}\" for x in subjects]\n",
    "\n",
    "    mean_by_subject = input_df[subjects_labels].mean().values\n",
    "\n",
    "    data = np.array([mean_by_subject, num_questions]).T\n",
    "\n",
    "    display_df = pd.DataFrame(data=data, index=subjects, \n",
    "                          columns=[\"Nota %\", \"Nº Questões\"])\n",
    "    display_df[\"Nº Questões\"] = display_df[\"Nº Questões\"].astype(int, errors=\"ignore\")\n",
    "    display_df[\"Média Acertos\"] = mean_acertos_by_subject\n",
    "    display_df[\"Desvio Padrão Acertos\"] = std_acertos_by_subject\n",
    "    display_df[\"% de Zeros\"] = column_zero_subject\n",
    "\n",
    "    display_df[\"% de Alunos que acertaram pelo menos uma questão\"] = column_geq_one_subject\n",
    "    display_df[\"% de Alunos que acertaram todas\"] = column_all_subject\n",
    "\n",
    "\n",
    "    display_df = display_df.sort_values(by=[\"Nota %\"]).round(2)\n",
    "\n",
    "    \n",
    "    return display_df, input_df, presence_df\n",
    "    \n",
    "    "
   ]
  },
  {
   "cell_type": "code",
   "execution_count": 8,
   "metadata": {},
   "outputs": [],
   "source": [
    "def get_dict_all_years(filter_by_course: bool) -> dict:\n",
    "        \n",
    "    result = {}\n",
    "    for year in years:\n",
    "        result[year] = read_csv_course(year, filter_by_course=filter_by_course)\n",
    "        \n",
    "    return result"
   ]
  },
  {
   "cell_type": "code",
   "execution_count": 9,
   "metadata": {},
   "outputs": [],
   "source": [
    "dfs = get_dict_all_years(filter_by_course=True)"
   ]
  },
  {
   "cell_type": "code",
   "execution_count": 10,
   "metadata": {},
   "outputs": [
    {
     "name": "stderr",
     "output_type": "stream",
     "text": [
      "/home/renan/.pyenv/versions/3.6.9/envs/enade/lib/python3.6/site-packages/pandas/core/indexing.py:1596: SettingWithCopyWarning: \n",
      "A value is trying to be set on a copy of a slice from a DataFrame.\n",
      "Try using .loc[row_indexer,col_indexer] = value instead\n",
      "\n",
      "See the caveats in the documentation: https://pandas.pydata.org/pandas-docs/stable/user_guide/indexing.html#returning-a-view-versus-a-copy\n",
      "  self.obj[key] = _infer_fill_value(value)\n",
      "/home/renan/.pyenv/versions/3.6.9/envs/enade/lib/python3.6/site-packages/pandas/core/indexing.py:1745: SettingWithCopyWarning: \n",
      "A value is trying to be set on a copy of a slice from a DataFrame.\n",
      "Try using .loc[row_indexer,col_indexer] = value instead\n",
      "\n",
      "See the caveats in the documentation: https://pandas.pydata.org/pandas-docs/stable/user_guide/indexing.html#returning-a-view-versus-a-copy\n",
      "  isetter(ilocs[0], value)\n",
      "/home/renan/.pyenv/versions/3.6.9/envs/enade/lib/python3.6/site-packages/pandas/core/indexing.py:1596: SettingWithCopyWarning: \n",
      "A value is trying to be set on a copy of a slice from a DataFrame.\n",
      "Try using .loc[row_indexer,col_indexer] = value instead\n",
      "\n",
      "See the caveats in the documentation: https://pandas.pydata.org/pandas-docs/stable/user_guide/indexing.html#returning-a-view-versus-a-copy\n",
      "  self.obj[key] = _infer_fill_value(value)\n",
      "/home/renan/.pyenv/versions/3.6.9/envs/enade/lib/python3.6/site-packages/pandas/core/indexing.py:1745: SettingWithCopyWarning: \n",
      "A value is trying to be set on a copy of a slice from a DataFrame.\n",
      "Try using .loc[row_indexer,col_indexer] = value instead\n",
      "\n",
      "See the caveats in the documentation: https://pandas.pydata.org/pandas-docs/stable/user_guide/indexing.html#returning-a-view-versus-a-copy\n",
      "  isetter(ilocs[0], value)\n",
      "/home/renan/.pyenv/versions/3.6.9/envs/enade/lib/python3.6/site-packages/pandas/core/indexing.py:1596: SettingWithCopyWarning: \n",
      "A value is trying to be set on a copy of a slice from a DataFrame.\n",
      "Try using .loc[row_indexer,col_indexer] = value instead\n",
      "\n",
      "See the caveats in the documentation: https://pandas.pydata.org/pandas-docs/stable/user_guide/indexing.html#returning-a-view-versus-a-copy\n",
      "  self.obj[key] = _infer_fill_value(value)\n",
      "/home/renan/.pyenv/versions/3.6.9/envs/enade/lib/python3.6/site-packages/pandas/core/indexing.py:1745: SettingWithCopyWarning: \n",
      "A value is trying to be set on a copy of a slice from a DataFrame.\n",
      "Try using .loc[row_indexer,col_indexer] = value instead\n",
      "\n",
      "See the caveats in the documentation: https://pandas.pydata.org/pandas-docs/stable/user_guide/indexing.html#returning-a-view-versus-a-copy\n",
      "  isetter(ilocs[0], value)\n",
      "/home/renan/.pyenv/versions/3.6.9/envs/enade/lib/python3.6/site-packages/pandas/core/indexing.py:1596: SettingWithCopyWarning: \n",
      "A value is trying to be set on a copy of a slice from a DataFrame.\n",
      "Try using .loc[row_indexer,col_indexer] = value instead\n",
      "\n",
      "See the caveats in the documentation: https://pandas.pydata.org/pandas-docs/stable/user_guide/indexing.html#returning-a-view-versus-a-copy\n",
      "  self.obj[key] = _infer_fill_value(value)\n",
      "/home/renan/.pyenv/versions/3.6.9/envs/enade/lib/python3.6/site-packages/pandas/core/indexing.py:1745: SettingWithCopyWarning: \n",
      "A value is trying to be set on a copy of a slice from a DataFrame.\n",
      "Try using .loc[row_indexer,col_indexer] = value instead\n",
      "\n",
      "See the caveats in the documentation: https://pandas.pydata.org/pandas-docs/stable/user_guide/indexing.html#returning-a-view-versus-a-copy\n",
      "  isetter(ilocs[0], value)\n",
      "/home/renan/.pyenv/versions/3.6.9/envs/enade/lib/python3.6/site-packages/pandas/core/indexing.py:1596: SettingWithCopyWarning: \n",
      "A value is trying to be set on a copy of a slice from a DataFrame.\n",
      "Try using .loc[row_indexer,col_indexer] = value instead\n",
      "\n",
      "See the caveats in the documentation: https://pandas.pydata.org/pandas-docs/stable/user_guide/indexing.html#returning-a-view-versus-a-copy\n",
      "  self.obj[key] = _infer_fill_value(value)\n",
      "/home/renan/.pyenv/versions/3.6.9/envs/enade/lib/python3.6/site-packages/pandas/core/indexing.py:1745: SettingWithCopyWarning: \n",
      "A value is trying to be set on a copy of a slice from a DataFrame.\n",
      "Try using .loc[row_indexer,col_indexer] = value instead\n",
      "\n",
      "See the caveats in the documentation: https://pandas.pydata.org/pandas-docs/stable/user_guide/indexing.html#returning-a-view-versus-a-copy\n",
      "  isetter(ilocs[0], value)\n"
     ]
    }
   ],
   "source": [
    "\n",
    "display_dfs = {}\n",
    "presence_dfs = {}\n",
    "for year in dfs.keys():\n",
    "    enade_df = dfs[year]\n",
    "    display_df, df, presence_df = get_display_df(year, enade_df, subject_df)\n",
    "    dfs[year] = df\n",
    "    display_dfs[year] = display_df\n",
    "    presence_dfs[year] = presence_df   \n",
    "    "
   ]
  },
  {
   "cell_type": "code",
   "execution_count": 11,
   "metadata": {},
   "outputs": [
    {
     "data": {
      "text/html": [
       "<div>\n",
       "<style scoped>\n",
       "    .dataframe tbody tr th:only-of-type {\n",
       "        vertical-align: middle;\n",
       "    }\n",
       "\n",
       "    .dataframe tbody tr th {\n",
       "        vertical-align: top;\n",
       "    }\n",
       "\n",
       "    .dataframe thead th {\n",
       "        text-align: right;\n",
       "    }\n",
       "</style>\n",
       "<table border=\"1\" class=\"dataframe\">\n",
       "  <thead>\n",
       "    <tr style=\"text-align: right;\">\n",
       "      <th></th>\n",
       "      <th>2005</th>\n",
       "      <th>2008</th>\n",
       "      <th>2011</th>\n",
       "      <th>2014</th>\n",
       "      <th>2017</th>\n",
       "    </tr>\n",
       "  </thead>\n",
       "  <tbody>\n",
       "    <tr>\n",
       "      <th>Presente</th>\n",
       "      <td>30</td>\n",
       "      <td>36</td>\n",
       "      <td>17</td>\n",
       "      <td>28</td>\n",
       "      <td>34</td>\n",
       "    </tr>\n",
       "    <tr>\n",
       "      <th>Ausente</th>\n",
       "      <td>5</td>\n",
       "      <td>2</td>\n",
       "      <td>3</td>\n",
       "      <td>3</td>\n",
       "      <td>14</td>\n",
       "    </tr>\n",
       "  </tbody>\n",
       "</table>\n",
       "</div>"
      ],
      "text/plain": [
       "          2005  2008  2011  2014  2017\n",
       "Presente    30    36    17    28    34\n",
       "Ausente      5     2     3     3    14"
      ]
     },
     "execution_count": 11,
     "metadata": {},
     "output_type": "execute_result"
    }
   ],
   "source": [
    "presence_by_year = {\"2005\": presence_dfs[2005].copy(),\n",
    "                    \"2008\": presence_dfs[2008].copy(),\n",
    "                    \"2011\": presence_dfs[2011].copy(),\n",
    "                    \"2014\": presence_dfs[2014].copy(),\n",
    "                    \"2017\": presence_dfs[2017].copy()}\n",
    "\n",
    "presence_by_year_df = pd.DataFrame(presence_by_year)\n",
    "presence_by_year_df.fillna(0).astype(int)\n"
   ]
  },
  {
   "cell_type": "code",
   "execution_count": 12,
   "metadata": {},
   "outputs": [
    {
     "data": {
      "text/plain": [
       "'3.3.4'"
      ]
     },
     "execution_count": 12,
     "metadata": {},
     "output_type": "execute_result"
    }
   ],
   "source": [
    "import matplotlib as mlp\n",
    "mlp.__version__"
   ]
  },
  {
   "cell_type": "code",
   "execution_count": 19,
   "metadata": {},
   "outputs": [
    {
     "data": {
      "image/png": "[encoded data removed]",
      "text/plain": [
       "<Figure size 864x432 with 2 Axes>"
      ]
     },
     "metadata": {
      "needs_background": "light"
     },
     "output_type": "display_data"
    }
   ],
   "source": [
    "import matplotlib.pyplot as plt\n",
    "import matplotlib.ticker as mtick\n",
    "\n",
    "plt.rcParams[\"figure.figsize\"] = (12,6)\n",
    "font = {\n",
    "        'weight' : 'normal',\n",
    "        'size'   : 15}\n",
    "\n",
    "matplotlib.rc('font', **font)\n",
    "\n",
    "N = len(presence_by_year)\n",
    "present = presence_by_year_df.loc[\"Presente\"]\n",
    "absent = presence_by_year_df.loc[\"Ausente\"]\n",
    "ind = np.arange(N)    # the x locations for the groups\n",
    "width = 0.35       # the width of the bars: can also be len(x) sequence\n",
    "\n",
    "\n",
    "ax = plt.subplot(121)\n",
    "\n",
    "\n",
    "p1 = ax.bar(ind,100* absent / (absent+present), width, label='Ausente', color=\"black\")\n",
    "p2 = ax.bar(ind,100* present / (absent+present), width,\n",
    "            bottom=100*absent / (absent+present), label='Presente', color=\"gray\")\n",
    "\n",
    "ax.axhline(0, color='grey', linewidth=0.8)\n",
    "ax.set_ylabel('Porcentagem de Participantes')\n",
    "ax.set_xticks(ind)\n",
    "ax.grid(axis = 'y', color ='white', linestyle='-')\n",
    "\n",
    "ax.set_xticklabels(('2005', '2008', '2011', '2014', '2017'))\n",
    "\n",
    "ax.spines['top'].set_visible(False)\n",
    "ax.spines['right'].set_visible(False)\n",
    "ax.yaxis.set_major_formatter(mtick.PercentFormatter())\n",
    "\n",
    "\n",
    "plt.savefig(\"/tmp/student_frequency\", dpi=500)\n",
    "\n",
    "\n",
    "ax = plt.subplot(122)\n",
    "\n",
    "p2 = ax.bar(ind - width/2, absent, width, color=\"black\")\n",
    "p1 = ax.bar(ind + width/2, present, width, color=\"gray\")\n",
    "\n",
    "\n",
    "plt.ylabel('Número de Participantes')\n",
    "#plt.title('Frequência de alunos por ano')\n",
    "plt.xticks(ind, presence_by_year_df.columns)\n",
    "#plt.yticks(np.arange(0, 81, 10))\n",
    "plt.legend((p1[0], p2[0]), ('Presente', 'Ausente'))\n",
    "ax.grid(axis = 'y', color ='white', linestyle='-')\n",
    "ax.spines['top'].set_visible(False)\n",
    "ax.spines['right'].set_visible(False)\n",
    "plt.ylim(0,42)\n",
    "#fig.tight_layout()\n",
    "#ax.bar_label(rects1, padding=3)\n",
    "# Label with label_type 'center' instead of the default 'edge'\n",
    "#ax.bar_label(p1, label_type='center')\n",
    "#ax.bar_label(p2, label_type='center')\n",
    "#ax.bar_label(p2)\n",
    "\n",
    "\n",
    "plt.savefig(\"/tmp/student_frequency\", dpi=500)"
   ]
  },
  {
   "cell_type": "code",
   "execution_count": 14,
   "metadata": {},
   "outputs": [
    {
     "data": {
      "image/png": "[encoded data removed]",
      "text/plain": [
       "<Figure size 864x432 with 1 Axes>"
      ]
     },
     "metadata": {
      "needs_background": "light"
     },
     "output_type": "display_data"
    }
   ],
   "source": [
    "ax = plt.subplot(111)\n",
    "plt.plot(absent,'o-', color=\"black\", label=\"Ausente\")\n",
    "plt.plot(present,'d-', color=\"gray\", label=\"Presente\")\n",
    "plt.legend()\n",
    "plt.title('Frequência de alunos por ano')\n",
    "ax.spines['top'].set_visible(False)\n",
    "ax.spines['right'].set_visible(False)\n",
    "plt.show()"
   ]
  },
  {
   "cell_type": "code",
   "execution_count": 15,
   "metadata": {},
   "outputs": [
    {
     "name": "stderr",
     "output_type": "stream",
     "text": [
      "/home/renan/.pyenv/versions/3.6.9/envs/enade/lib/python3.6/site-packages/ipykernel_launcher.py:7: UserWarning: FixedFormatter should only be used together with FixedLocator\n",
      "  import sys\n"
     ]
    },
    {
     "data": {
      "image/png": "[encoded data removed]",
      "text/plain": [
       "<Figure size 864x432 with 1 Axes>"
      ]
     },
     "metadata": {
      "needs_background": "light"
     },
     "output_type": "display_data"
    }
   ],
   "source": [
    "ax = plt.subplot(111)\n",
    "plt.plot(absent / (present + absent),'o-', color=\"black\")\n",
    "plt.title('Porcentagem de Alunos Ausentes por Ano')\n",
    "ax.spines['top'].set_visible(False)\n",
    "ax.spines['right'].set_visible(False)\n",
    "vals = ax.get_yticks()\n",
    "ax.set_yticklabels(['{:.0%}'.format(x) for x in vals])\n",
    "plt.show()"
   ]
  },
  {
   "cell_type": "code",
   "execution_count": 16,
   "metadata": {},
   "outputs": [
    {
     "name": "stderr",
     "output_type": "stream",
     "text": [
      "/home/renan/.pyenv/versions/3.6.9/envs/enade/lib/python3.6/site-packages/pandas/core/computation/expressions.py:68: FutureWarning: elementwise comparison failed; returning scalar instead, but in the future will perform elementwise comparison\n",
      "  return op(a, b)\n"
     ]
    },
    {
     "data": {
      "text/html": [
       "<div>\n",
       "<style scoped>\n",
       "    .dataframe tbody tr th:only-of-type {\n",
       "        vertical-align: middle;\n",
       "    }\n",
       "\n",
       "    .dataframe tbody tr th {\n",
       "        vertical-align: top;\n",
       "    }\n",
       "\n",
       "    .dataframe thead th {\n",
       "        text-align: right;\n",
       "    }\n",
       "</style>\n",
       "<table border=\"1\" class=\"dataframe\">\n",
       "  <thead>\n",
       "    <tr style=\"text-align: right;\">\n",
       "      <th></th>\n",
       "      <th>Nº Questões Objetivas em Branco</th>\n",
       "      <th>% Questões Objetivas em Branco</th>\n",
       "      <th>Nº Questões Objetivas Rasuradas</th>\n",
       "      <th>% Questões Objetivas Rasuradas</th>\n",
       "      <th>Nº Questões Discursivas em Branco</th>\n",
       "      <th>% Questões Discursivas em Branco</th>\n",
       "      <th>Nº de alunos que deixaram toda a prova discursiva em branco</th>\n",
       "      <th>% de alunos que deixaram toda a prova discursiva em branco</th>\n",
       "    </tr>\n",
       "  </thead>\n",
       "  <tbody>\n",
       "    <tr>\n",
       "      <th>2017</th>\n",
       "      <td>1</td>\n",
       "      <td>0.08</td>\n",
       "      <td>0</td>\n",
       "      <td>0.00</td>\n",
       "      <td>43</td>\n",
       "      <td>25.29</td>\n",
       "      <td>2</td>\n",
       "      <td>5.88</td>\n",
       "    </tr>\n",
       "    <tr>\n",
       "      <th>2014</th>\n",
       "      <td>22</td>\n",
       "      <td>2.24</td>\n",
       "      <td>1</td>\n",
       "      <td>0.10</td>\n",
       "      <td>36</td>\n",
       "      <td>25.71</td>\n",
       "      <td>2</td>\n",
       "      <td>7.14</td>\n",
       "    </tr>\n",
       "    <tr>\n",
       "      <th>2011</th>\n",
       "      <td>4</td>\n",
       "      <td>0.67</td>\n",
       "      <td>0</td>\n",
       "      <td>0.00</td>\n",
       "      <td>44</td>\n",
       "      <td>51.76</td>\n",
       "      <td>1</td>\n",
       "      <td>5.88</td>\n",
       "    </tr>\n",
       "    <tr>\n",
       "      <th>2008</th>\n",
       "      <td>9</td>\n",
       "      <td>0.71</td>\n",
       "      <td>2</td>\n",
       "      <td>0.16</td>\n",
       "      <td>65</td>\n",
       "      <td>36.11</td>\n",
       "      <td>2</td>\n",
       "      <td>5.56</td>\n",
       "    </tr>\n",
       "    <tr>\n",
       "      <th>2005</th>\n",
       "      <td>103</td>\n",
       "      <td>9.81</td>\n",
       "      <td>0</td>\n",
       "      <td>0.00</td>\n",
       "      <td>44</td>\n",
       "      <td>29.33</td>\n",
       "      <td>0</td>\n",
       "      <td>0.00</td>\n",
       "    </tr>\n",
       "  </tbody>\n",
       "</table>\n",
       "</div>"
      ],
      "text/plain": [
       "      Nº Questões Objetivas em Branco  % Questões Objetivas em Branco  \\\n",
       "2017                                1                            0.08   \n",
       "2014                               22                            2.24   \n",
       "2011                                4                            0.67   \n",
       "2008                                9                            0.71   \n",
       "2005                              103                            9.81   \n",
       "\n",
       "      Nº Questões Objetivas Rasuradas  % Questões Objetivas Rasuradas  \\\n",
       "2017                                0                            0.00   \n",
       "2014                                1                            0.10   \n",
       "2011                                0                            0.00   \n",
       "2008                                2                            0.16   \n",
       "2005                                0                            0.00   \n",
       "\n",
       "      Nº Questões Discursivas em Branco  % Questões Discursivas em Branco  \\\n",
       "2017                                 43                             25.29   \n",
       "2014                                 36                             25.71   \n",
       "2011                                 44                             51.76   \n",
       "2008                                 65                             36.11   \n",
       "2005                                 44                             29.33   \n",
       "\n",
       "      Nº de alunos que deixaram toda a prova discursiva em branco  \\\n",
       "2017                                                  2             \n",
       "2014                                                  2             \n",
       "2011                                                  1             \n",
       "2008                                                  2             \n",
       "2005                                                  0             \n",
       "\n",
       "      % de alunos que deixaram toda a prova discursiva em branco  \n",
       "2017                                               5.88           \n",
       "2014                                               7.14           \n",
       "2011                                               5.88           \n",
       "2008                                               5.56           \n",
       "2005                                               0.00           "
      ]
     },
     "execution_count": 16,
     "metadata": {},
     "output_type": "execute_result"
    }
   ],
   "source": [
    "\"\"\"Numero de questões marcadas em branco e rasuradas. \n",
    "   \n",
    "   A porcentagem desses valores é calculada de acordo com o numero total de questões da prova x o numero de\n",
    "   alunos presentes\n",
    "   \n",
    "   Considera questões anuladas. Acho que faz sentido saber se um aluno deixou uma questão em branco mesmo sabendo\n",
    "   se ela foi anulada depois\"\"\"\n",
    "\n",
    "\n",
    "def get_blank_deletion_data(df: pd.DataFrame, year: int) -> pd.DataFrame:\n",
    "    num_blank_objective = 0\n",
    "    num_deletion_objective = 0\n",
    "    num_blank_discursive = 0\n",
    "    \n",
    "    subject_df_year = subject_df.loc[subject_df[\"ano\"] == year]\n",
    "    \n",
    "    discursive_questions = subject_manipulation.get_discursive_questions(subject_df_year)\n",
    "    objective_questions = subject_manipulation.get_objective_questions(subject_df_year)\n",
    "    \n",
    "    objective_question_columns = [f\"QUESTAO_{x}_SITUACAO_DA_RESPOSTA\" for x in objective_questions]\n",
    "    discursive_question_columns = [f\"QUESTAO_{x}_SITUACAO_DA_RESPOSTA\" for x in discursive_questions]\n",
    "    \n",
    "    df_discursive = df[discursive_question_columns]\n",
    "    df_discursive_equal_blank = df_discursive == BLANK_ANSWER_LABEL\n",
    "    df_discursive_all_blank = df_discursive_equal_blank.all(axis=1)\n",
    "    \n",
    "    count_all_discursive_blank = list(df_discursive_all_blank).count(True)\n",
    "\n",
    "    for column in objective_question_columns:\n",
    "        num_blank_objective += list(df[column]).count(BLANK_ANSWER_LABEL)\n",
    "        num_deletion_objective += list(df[column]).count(DELETION_ANSWER_LABEL)\n",
    "            \n",
    "    for column in discursive_question_columns:\n",
    "        num_blank_discursive += list(df[column]).count(BLANK_ANSWER_LABEL)\n",
    "            \n",
    "    num_students = df.shape[0]\n",
    "    percentage_blank_objective = num_blank_objective * 100 / (num_students * len(objective_questions))\n",
    "    percentage_blank_discursive = num_blank_discursive * 100 / (num_students * len(discursive_questions))\n",
    "\n",
    "    percentage_deletion_objective = num_deletion_objective * 100 / (num_students * len(objective_questions))\n",
    "    percentage_all_discursive_blank = count_all_discursive_blank * 100 / num_students\n",
    "    \n",
    "    data = {\"Nº Questões Objetivas em Branco\": num_blank_objective,\n",
    "            \"% Questões Objetivas em Branco\": percentage_blank_objective,\n",
    "            \"Nº Questões Objetivas Rasuradas\": num_deletion_objective,\n",
    "            \"% Questões Objetivas Rasuradas\": percentage_deletion_objective,\n",
    "            \"Nº Questões Discursivas em Branco\": num_blank_discursive,\n",
    "            \"% Questões Discursivas em Branco\": percentage_blank_discursive,\n",
    "            \"Nº de alunos que deixaram toda a prova discursiva em branco\": count_all_discursive_blank,\n",
    "            \"% de alunos que deixaram toda a prova discursiva em branco\": percentage_all_discursive_blank}\n",
    "    \n",
    "    return pd.DataFrame(data, index = [year])\n",
    "\n",
    "\n",
    "blank_deletion_df =pd.concat([get_blank_deletion_data(df, year) for df, year in zip(dfs.values(), dfs.keys())], axis=0)\n",
    "blank_deletion_df.round(2)    \n",
    "    "
   ]
  }
 ],
 "metadata": {
  "celltoolbar": "Tags",
  "kernelspec": {
   "display_name": "Python 3",
   "language": "python",
   "name": "python3"
  },
  "language_info": {
   "codemirror_mode": {
    "name": "ipython",
    "version": 3
   },
   "file_extension": ".py",
   "mimetype": "text/x-python",
   "name": "python",
   "nbconvert_exporter": "python",
   "pygments_lexer": "ipython3",
   "version": "3.6.9"
  }
 },
 "nbformat": 4,
 "nbformat_minor": 2
}
