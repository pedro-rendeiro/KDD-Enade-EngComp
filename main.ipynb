{
 "cells": [
  {
   "cell_type": "code",
   "execution_count": 1,
   "metadata": {},
   "outputs": [],
   "source": [
    "import pandas as pd\n",
    "import numpy as np\n",
    "from src import util\n",
    "import warnings\n",
    "warnings.filterwarnings(action='once')"
   ]
  },
  {
   "cell_type": "code",
   "execution_count": 2,
   "metadata": {},
   "outputs": [],
   "source": [
    "code = 12025  # código do curso de ciência da computação da ufpa"
   ]
  },
  {
   "cell_type": "code",
   "execution_count": 3,
   "metadata": {},
   "outputs": [],
   "source": [
    "csv = pd.read_csv(\"data/enade/3.DADOS/MICRODADOS_ENADE_2017.txt\", \n",
    "                  sep=\";\", decimal =',', \n",
    "                  dtype={\"DS_VT_ESC_OFG\":str, \n",
    "                         \"DS_VT_ESC_OCE\": str,\n",
    "                         \"DS_VT_ACE_OCE\": str})\n",
    "classificacao_tema = pd.read_csv(\"data/classificacao_charao.csv\")"
   ]
  },
  {
   "cell_type": "code",
   "execution_count": 4,
   "metadata": {},
   "outputs": [
    {
     "data": {
      "text/html": [
       "<div>\n",
       "<style scoped>\n",
       "    .dataframe tbody tr th:only-of-type {\n",
       "        vertical-align: middle;\n",
       "    }\n",
       "\n",
       "    .dataframe tbody tr th {\n",
       "        vertical-align: top;\n",
       "    }\n",
       "\n",
       "    .dataframe thead th {\n",
       "        text-align: right;\n",
       "    }\n",
       "</style>\n",
       "<table border=\"1\" class=\"dataframe\">\n",
       "  <thead>\n",
       "    <tr style=\"text-align: right;\">\n",
       "      <th></th>\n",
       "      <th>NU_ANO</th>\n",
       "      <th>CO_IES</th>\n",
       "      <th>CO_CATEGAD</th>\n",
       "      <th>CO_ORGACAD</th>\n",
       "      <th>CO_GRUPO</th>\n",
       "      <th>CO_CURSO</th>\n",
       "      <th>CO_MODALIDADE</th>\n",
       "      <th>CO_MUNIC_CURSO</th>\n",
       "      <th>CO_UF_CURSO</th>\n",
       "      <th>CO_REGIAO_CURSO</th>\n",
       "      <th>...</th>\n",
       "      <th>QE_I72</th>\n",
       "      <th>QE_I73</th>\n",
       "      <th>QE_I74</th>\n",
       "      <th>QE_I75</th>\n",
       "      <th>QE_I76</th>\n",
       "      <th>QE_I77</th>\n",
       "      <th>QE_I78</th>\n",
       "      <th>QE_I79</th>\n",
       "      <th>QE_I80</th>\n",
       "      <th>QE_I81</th>\n",
       "    </tr>\n",
       "  </thead>\n",
       "  <tbody>\n",
       "    <tr>\n",
       "      <th>0</th>\n",
       "      <td>2017</td>\n",
       "      <td>1</td>\n",
       "      <td>1</td>\n",
       "      <td>10028</td>\n",
       "      <td>5710</td>\n",
       "      <td>3</td>\n",
       "      <td>1</td>\n",
       "      <td>5103403</td>\n",
       "      <td>51</td>\n",
       "      <td>5</td>\n",
       "      <td>...</td>\n",
       "      <td>NaN</td>\n",
       "      <td>NaN</td>\n",
       "      <td>NaN</td>\n",
       "      <td>NaN</td>\n",
       "      <td>NaN</td>\n",
       "      <td>NaN</td>\n",
       "      <td>NaN</td>\n",
       "      <td>NaN</td>\n",
       "      <td>NaN</td>\n",
       "      <td>NaN</td>\n",
       "    </tr>\n",
       "    <tr>\n",
       "      <th>1</th>\n",
       "      <td>2017</td>\n",
       "      <td>1</td>\n",
       "      <td>1</td>\n",
       "      <td>10028</td>\n",
       "      <td>5710</td>\n",
       "      <td>3</td>\n",
       "      <td>1</td>\n",
       "      <td>5103403</td>\n",
       "      <td>51</td>\n",
       "      <td>5</td>\n",
       "      <td>...</td>\n",
       "      <td>NaN</td>\n",
       "      <td>NaN</td>\n",
       "      <td>NaN</td>\n",
       "      <td>NaN</td>\n",
       "      <td>NaN</td>\n",
       "      <td>NaN</td>\n",
       "      <td>NaN</td>\n",
       "      <td>NaN</td>\n",
       "      <td>NaN</td>\n",
       "      <td>NaN</td>\n",
       "    </tr>\n",
       "    <tr>\n",
       "      <th>2</th>\n",
       "      <td>2017</td>\n",
       "      <td>1</td>\n",
       "      <td>1</td>\n",
       "      <td>10028</td>\n",
       "      <td>5710</td>\n",
       "      <td>3</td>\n",
       "      <td>1</td>\n",
       "      <td>5103403</td>\n",
       "      <td>51</td>\n",
       "      <td>5</td>\n",
       "      <td>...</td>\n",
       "      <td>NaN</td>\n",
       "      <td>NaN</td>\n",
       "      <td>NaN</td>\n",
       "      <td>NaN</td>\n",
       "      <td>NaN</td>\n",
       "      <td>NaN</td>\n",
       "      <td>NaN</td>\n",
       "      <td>NaN</td>\n",
       "      <td>NaN</td>\n",
       "      <td>NaN</td>\n",
       "    </tr>\n",
       "    <tr>\n",
       "      <th>3</th>\n",
       "      <td>2017</td>\n",
       "      <td>1</td>\n",
       "      <td>1</td>\n",
       "      <td>10028</td>\n",
       "      <td>5710</td>\n",
       "      <td>3</td>\n",
       "      <td>1</td>\n",
       "      <td>5103403</td>\n",
       "      <td>51</td>\n",
       "      <td>5</td>\n",
       "      <td>...</td>\n",
       "      <td>NaN</td>\n",
       "      <td>NaN</td>\n",
       "      <td>NaN</td>\n",
       "      <td>NaN</td>\n",
       "      <td>NaN</td>\n",
       "      <td>NaN</td>\n",
       "      <td>NaN</td>\n",
       "      <td>NaN</td>\n",
       "      <td>NaN</td>\n",
       "      <td>NaN</td>\n",
       "    </tr>\n",
       "    <tr>\n",
       "      <th>4</th>\n",
       "      <td>2017</td>\n",
       "      <td>1</td>\n",
       "      <td>1</td>\n",
       "      <td>10028</td>\n",
       "      <td>5710</td>\n",
       "      <td>3</td>\n",
       "      <td>1</td>\n",
       "      <td>5103403</td>\n",
       "      <td>51</td>\n",
       "      <td>5</td>\n",
       "      <td>...</td>\n",
       "      <td>NaN</td>\n",
       "      <td>NaN</td>\n",
       "      <td>NaN</td>\n",
       "      <td>NaN</td>\n",
       "      <td>NaN</td>\n",
       "      <td>NaN</td>\n",
       "      <td>NaN</td>\n",
       "      <td>NaN</td>\n",
       "      <td>NaN</td>\n",
       "      <td>NaN</td>\n",
       "    </tr>\n",
       "  </tbody>\n",
       "</table>\n",
       "<p>5 rows × 150 columns</p>\n",
       "</div>"
      ],
      "text/plain": [
       "   NU_ANO  CO_IES  CO_CATEGAD  CO_ORGACAD  CO_GRUPO  CO_CURSO  CO_MODALIDADE  \\\n",
       "0    2017       1           1       10028      5710         3              1   \n",
       "1    2017       1           1       10028      5710         3              1   \n",
       "2    2017       1           1       10028      5710         3              1   \n",
       "3    2017       1           1       10028      5710         3              1   \n",
       "4    2017       1           1       10028      5710         3              1   \n",
       "\n",
       "   CO_MUNIC_CURSO  CO_UF_CURSO  CO_REGIAO_CURSO  ...  QE_I72 QE_I73  QE_I74  \\\n",
       "0         5103403           51                5  ...     NaN    NaN     NaN   \n",
       "1         5103403           51                5  ...     NaN    NaN     NaN   \n",
       "2         5103403           51                5  ...     NaN    NaN     NaN   \n",
       "3         5103403           51                5  ...     NaN    NaN     NaN   \n",
       "4         5103403           51                5  ...     NaN    NaN     NaN   \n",
       "\n",
       "   QE_I75  QE_I76  QE_I77  QE_I78  QE_I79  QE_I80  QE_I81  \n",
       "0     NaN     NaN     NaN     NaN     NaN     NaN     NaN  \n",
       "1     NaN     NaN     NaN     NaN     NaN     NaN     NaN  \n",
       "2     NaN     NaN     NaN     NaN     NaN     NaN     NaN  \n",
       "3     NaN     NaN     NaN     NaN     NaN     NaN     NaN  \n",
       "4     NaN     NaN     NaN     NaN     NaN     NaN     NaN  \n",
       "\n",
       "[5 rows x 150 columns]"
      ]
     },
     "execution_count": 4,
     "metadata": {},
     "output_type": "execute_result"
    }
   ],
   "source": [
    "csv.head()"
   ]
  },
  {
   "cell_type": "code",
   "execution_count": 5,
   "metadata": {},
   "outputs": [],
   "source": [
    "# Filtrar dados apenas dos estudantes do curso de ciência da computação da ufpa\n",
    "csv_curso = csv.loc[csv[\"CO_CURSO\"] == 12025]\n"
   ]
  },
  {
   "cell_type": "code",
   "execution_count": 6,
   "metadata": {},
   "outputs": [
    {
     "name": "stderr",
     "output_type": "stream",
     "text": [
      "/usr/local/lib/python3.6/dist-packages/pandas/core/indexing.py:1596: SettingWithCopyWarning: \n",
      "A value is trying to be set on a copy of a slice from a DataFrame.\n",
      "Try using .loc[row_indexer,col_indexer] = value instead\n",
      "\n",
      "See the caveats in the documentation: https://pandas.pydata.org/pandas-docs/stable/user_guide/indexing.html#returning-a-view-versus-a-copy\n",
      "  self.obj[key] = _infer_fill_value(value)\n"
     ]
    }
   ],
   "source": [
    "# Mapear codigo de presença pra label\n",
    "new_mapping = csv_curso[\"TP_PRES\"].map({222:\"Ausente\", 555:\"Presente\"}).values\n",
    "csv_curso.loc[:, \"TP_PRES_LABEL\"] = new_mapping\n",
    "\n"
   ]
  },
  {
   "cell_type": "code",
   "execution_count": 7,
   "metadata": {},
   "outputs": [
    {
     "data": {
      "text/plain": [
       "Presente    34\n",
       "Ausente     14\n",
       "Name: TP_PRES_LABEL, dtype: int64"
      ]
     },
     "execution_count": 7,
     "metadata": {},
     "output_type": "execute_result"
    }
   ],
   "source": [
    "csv_curso[\"TP_PRES_LABEL\"].value_counts()"
   ]
  },
  {
   "cell_type": "code",
   "execution_count": 8,
   "metadata": {},
   "outputs": [],
   "source": [
    "# Filtrar dados apenas dos estudantes que prestaram o exame\n",
    "csv_curso_presentes = csv_curso.loc[csv_curso[\"TP_PRES_LABEL\"] == \"Presente\"]"
   ]
  },
  {
   "cell_type": "code",
   "execution_count": 9,
   "metadata": {},
   "outputs": [
    {
     "name": "stderr",
     "output_type": "stream",
     "text": [
      "/usr/local/lib/python3.6/dist-packages/pandas/core/indexing.py:1596: SettingWithCopyWarning: \n",
      "A value is trying to be set on a copy of a slice from a DataFrame.\n",
      "Try using .loc[row_indexer,col_indexer] = value instead\n",
      "\n",
      "See the caveats in the documentation: https://pandas.pydata.org/pandas-docs/stable/user_guide/indexing.html#returning-a-view-versus-a-copy\n",
      "  self.obj[key] = _infer_fill_value(value)\n"
     ]
    }
   ],
   "source": [
    "# Cria uma coluna pra cada questão, indicando se o aluno acertou ou não a mesma. O valor fica NaN caso a questão\n",
    "# tenha sido anulada\n",
    "csv_curso_presentes_2 = util.add_columns_objective_score(csv_curso_presentes)\n"
   ]
  },
  {
   "cell_type": "code",
   "execution_count": 10,
   "metadata": {},
   "outputs": [],
   "source": [
    "# Filtrar dados das questões apenas do exame de 2017\n",
    "classificacao_tema = classificacao_tema.loc[classificacao_tema[\"ano\"] == 2017]\n"
   ]
  },
  {
   "cell_type": "code",
   "execution_count": 11,
   "metadata": {},
   "outputs": [
    {
     "data": {
      "text/plain": [
       "array(['Algoritmos e Estruturas de Dados',\n",
       "       'Arquitetura de Computadores e Sistemas Operacionais',\n",
       "       'Banco de Dados', 'Compiladores',\n",
       "       'Computação Gráfica e Processamento de Imagem',\n",
       "       'Engenharia de Software e Interação Homem-Computador',\n",
       "       'Fundamentos e Técnicas de Programação',\n",
       "       'Inteligência Artificial e Computacional',\n",
       "       'Lógica e Matemática Discreta',\n",
       "       'Paradigmas de Linguagens de Programação', 'Redes de Computadores',\n",
       "       'Sistemas Digitais', 'Sistemas Distribuídos',\n",
       "       'Teoria da Computação', 'Teoria dos Grafos',\n",
       "       'Ética, Computador e Sociedade'], dtype=object)"
      ]
     },
     "execution_count": 11,
     "metadata": {},
     "output_type": "execute_result"
    }
   ],
   "source": [
    "subjects = util.get_subjects(classificacao_tema)\n",
    "subjects"
   ]
  },
  {
   "cell_type": "code",
   "execution_count": 12,
   "metadata": {},
   "outputs": [
    {
     "name": "stderr",
     "output_type": "stream",
     "text": [
      "/usr/local/lib/python3.6/dist-packages/pandas/core/indexing.py:1596: SettingWithCopyWarning: \n",
      "A value is trying to be set on a copy of a slice from a DataFrame.\n",
      "Try using .loc[row_indexer,col_indexer] = value instead\n",
      "\n",
      "See the caveats in the documentation: https://pandas.pydata.org/pandas-docs/stable/user_guide/indexing.html#returning-a-view-versus-a-copy\n",
      "  self.obj[key] = _infer_fill_value(value)\n"
     ]
    }
   ],
   "source": [
    "# Adiciona novas colunas pra cada tema do exame (Algoritmos, Grafos, etc) e atribui a nota do aluno no tema \n",
    "# respectivo\n",
    "csv_curso_presentes = util.add_all_score_subjects(csv_curso_presentes, \n",
    "                                                  classificacao_tema)"
   ]
  },
  {
   "cell_type": "code",
   "execution_count": 13,
   "metadata": {},
   "outputs": [
    {
     "data": {
      "text/html": [
       "<div>\n",
       "<style scoped>\n",
       "    .dataframe tbody tr th:only-of-type {\n",
       "        vertical-align: middle;\n",
       "    }\n",
       "\n",
       "    .dataframe tbody tr th {\n",
       "        vertical-align: top;\n",
       "    }\n",
       "\n",
       "    .dataframe thead th {\n",
       "        text-align: right;\n",
       "    }\n",
       "</style>\n",
       "<table border=\"1\" class=\"dataframe\">\n",
       "  <thead>\n",
       "    <tr style=\"text-align: right;\">\n",
       "      <th></th>\n",
       "      <th>Nota %</th>\n",
       "      <th>Nº Questões</th>\n",
       "    </tr>\n",
       "  </thead>\n",
       "  <tbody>\n",
       "    <tr>\n",
       "      <th>Teoria da Computação</th>\n",
       "      <td>13.235294</td>\n",
       "      <td>2</td>\n",
       "    </tr>\n",
       "    <tr>\n",
       "      <th>Banco de Dados</th>\n",
       "      <td>30.882353</td>\n",
       "      <td>2</td>\n",
       "    </tr>\n",
       "    <tr>\n",
       "      <th>Compiladores</th>\n",
       "      <td>32.352941</td>\n",
       "      <td>1</td>\n",
       "    </tr>\n",
       "    <tr>\n",
       "      <th>Algoritmos e Estruturas de Dados</th>\n",
       "      <td>35.000000</td>\n",
       "      <td>6</td>\n",
       "    </tr>\n",
       "    <tr>\n",
       "      <th>Arquitetura de Computadores e Sistemas Operacionais</th>\n",
       "      <td>35.294118</td>\n",
       "      <td>3</td>\n",
       "    </tr>\n",
       "    <tr>\n",
       "      <th>Computação Gráfica e Processamento de Imagem</th>\n",
       "      <td>41.176471</td>\n",
       "      <td>1</td>\n",
       "    </tr>\n",
       "    <tr>\n",
       "      <th>Sistemas Distribuídos</th>\n",
       "      <td>41.176471</td>\n",
       "      <td>2</td>\n",
       "    </tr>\n",
       "    <tr>\n",
       "      <th>Teoria dos Grafos</th>\n",
       "      <td>43.676471</td>\n",
       "      <td>2</td>\n",
       "    </tr>\n",
       "    <tr>\n",
       "      <th>Fundamentos e Técnicas de Programação</th>\n",
       "      <td>47.058824</td>\n",
       "      <td>1</td>\n",
       "    </tr>\n",
       "    <tr>\n",
       "      <th>Lógica e Matemática Discreta</th>\n",
       "      <td>47.058824</td>\n",
       "      <td>1</td>\n",
       "    </tr>\n",
       "    <tr>\n",
       "      <th>Engenharia de Software e Interação Homem-Computador</th>\n",
       "      <td>49.656863</td>\n",
       "      <td>3</td>\n",
       "    </tr>\n",
       "    <tr>\n",
       "      <th>Redes de Computadores</th>\n",
       "      <td>52.941176</td>\n",
       "      <td>2</td>\n",
       "    </tr>\n",
       "    <tr>\n",
       "      <th>Inteligência Artificial e Computacional</th>\n",
       "      <td>61.764706</td>\n",
       "      <td>2</td>\n",
       "    </tr>\n",
       "    <tr>\n",
       "      <th>Sistemas Digitais</th>\n",
       "      <td>61.764706</td>\n",
       "      <td>1</td>\n",
       "    </tr>\n",
       "    <tr>\n",
       "      <th>Ética, Computador e Sociedade</th>\n",
       "      <td>70.588235</td>\n",
       "      <td>1</td>\n",
       "    </tr>\n",
       "    <tr>\n",
       "      <th>Paradigmas de Linguagens de Programação</th>\n",
       "      <td>73.529412</td>\n",
       "      <td>1</td>\n",
       "    </tr>\n",
       "  </tbody>\n",
       "</table>\n",
       "</div>"
      ],
      "text/plain": [
       "                                                       Nota %  Nº Questões\n",
       "Teoria da Computação                                13.235294            2\n",
       "Banco de Dados                                      30.882353            2\n",
       "Compiladores                                        32.352941            1\n",
       "Algoritmos e Estruturas de Dados                    35.000000            6\n",
       "Arquitetura de Computadores e Sistemas Operacio...  35.294118            3\n",
       "Computação Gráfica e Processamento de Imagem        41.176471            1\n",
       "Sistemas Distribuídos                               41.176471            2\n",
       "Teoria dos Grafos                                   43.676471            2\n",
       "Fundamentos e Técnicas de Programação               47.058824            1\n",
       "Lógica e Matemática Discreta                        47.058824            1\n",
       "Engenharia de Software e Interação Homem-Comput...  49.656863            3\n",
       "Redes de Computadores                               52.941176            2\n",
       "Inteligência Artificial e Computacional             61.764706            2\n",
       "Sistemas Digitais                                   61.764706            1\n",
       "Ética, Computador e Sociedade                       70.588235            1\n",
       "Paradigmas de Linguagens de Programação             73.529412            1"
      ]
     },
     "execution_count": 13,
     "metadata": {},
     "output_type": "execute_result"
    }
   ],
   "source": [
    "# medias dos alunos por cada tema, junto com o número de questões\n",
    "num_questions = []\n",
    "for subject in subjects:\n",
    "    num_subject_questions = len(util.get_subject_valid_questions(subject, \n",
    "                                                                 classificacao_tema,\n",
    "                                                                 csv_curso_presentes))\n",
    "    num_questions.append(num_subject_questions)\n",
    "    \n",
    "    \n",
    "subjects_labels = [f\"SCORE_{x}\" for x in subjects]\n",
    "\n",
    "mean_by_subject = csv_curso_presentes[subjects_labels].mean().values\n",
    "\n",
    "data = np.array([mean_by_subject, num_questions]).T\n",
    "\n",
    "\n",
    "\n",
    "subject_df = pd.DataFrame(data=data, index=subjects, \n",
    "                          columns=[\"Nota %\", \"Nº Questões\"])\n",
    "subject_df[\"Nº Questões\"] = subject_df[\"Nº Questões\"].astype(int)\n",
    "\n",
    "subject_df.sort_values(by=[\"Nota %\"])\n"
   ]
  },
  {
   "cell_type": "code",
   "execution_count": 14,
   "metadata": {},
   "outputs": [
    {
     "name": "stdout",
     "output_type": "stream",
     "text": [
      "0.08% questões marcadas em branco (apenas um aluno deixou UMA questão em branco)\n",
      "0.0% rasuradas \n"
     ]
    }
   ],
   "source": [
    "# porcentagem de questões objetivas marcadas em branco e rasuradas\n",
    "all_questions_to_do = \"\".join(csv_curso_presentes[\"DS_VT_ESC_OFG\"]) + \"\".join(csv_curso_presentes[\"DS_VT_ESC_OCE\"])\n",
    "num_blank = all_questions_to_do.count('.')\n",
    "num_deletion = all_questions_to_do.count('*')\n",
    "print(f\"{round(num_blank*100/len(all_questions_to_do), 2)}% questões marcadas em branco\" \n",
    "      f\" (apenas um aluno deixou UMA questão em branco)\")\n",
    "print(f\"{num_deletion*100/len(all_questions_to_do)}% rasuradas \")"
   ]
  },
  {
   "cell_type": "code",
   "execution_count": 15,
   "metadata": {},
   "outputs": [
    {
     "name": "stdout",
     "output_type": "stream",
     "text": [
      "5.88% dos alunos deixaram toda a prova discursiva (5 questões) em branco\n",
      "O que dá 2 alunos\n"
     ]
    }
   ],
   "source": [
    "# Porcentagem de alunos que não realizou nenhuma questão discursiva\n",
    "general_formation_blank = csv_curso_presentes[\"TP_PR_DI_FG\"] == 333\n",
    "specific_formation_blank = csv_curso_presentes[\"TP_PR_DI_CE\"] == 333\n",
    "discursive_blank = general_formation_blank & specific_formation_blank\n",
    "percentage_dis_blank = discursive_blank.mean()*100\n",
    "percentage_dis_blank = round(percentage_dis_blank, 2)\n",
    "print(f\"{percentage_dis_blank}% dos alunos deixaram toda a prova discursiva (5 questões) em branco\")\n",
    "print(\"O que dá 2 alunos\")"
   ]
  },
  {
   "cell_type": "code",
   "execution_count": 16,
   "metadata": {},
   "outputs": [
    {
     "name": "stdout",
     "output_type": "stream",
     "text": [
      "25.29% das questões discursivas foram deixadas em branco\n"
     ]
    }
   ],
   "source": [
    "discursive_general_labels = [f\"TP_SFG_D{x}\" for x in range(1, 3)]\n",
    "discursive_specific_labels = [f\"TP_SCE_D{x}\" for x in range(1, 4)]\n",
    "labels = discursive_general_labels + discursive_specific_labels\n",
    "blank_discursive = csv_curso_presentes[labels] == 333\n",
    "num_blank_discursive = sum(blank_discursive.sum())\n",
    "percentage_blank_discursive = num_blank_discursive / np.prod(blank_discursive.shape)\n",
    "percentage_blank_discursive *= 100\n",
    "percentage_blank_discursive = round(percentage_blank_discursive, 2)\n",
    "print(f\"{percentage_blank_discursive}% das questões discursivas foram deixadas em branco\")\n"
   ]
  }
 ],
 "metadata": {
  "kernelspec": {
   "display_name": "Python 3",
   "language": "python",
   "name": "python3"
  },
  "language_info": {
   "codemirror_mode": {
    "name": "ipython",
    "version": 3
   },
   "file_extension": ".py",
   "mimetype": "text/x-python",
   "name": "python",
   "nbconvert_exporter": "python",
   "pygments_lexer": "ipython3",
   "version": "3.6.9"
  }
 },
 "nbformat": 4,
 "nbformat_minor": 2
}
